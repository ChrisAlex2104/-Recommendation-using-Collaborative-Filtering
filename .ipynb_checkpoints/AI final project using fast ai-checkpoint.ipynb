{
 "cells": [
  {
   "cell_type": "markdown",
   "id": "bd189c42",
   "metadata": {},
   "source": [
    "### Collaborative filtering using fast ai"
   ]
  },
  {
   "cell_type": "code",
   "execution_count": 198,
   "id": "c8d4e4d0",
   "metadata": {},
   "outputs": [],
   "source": [
    "from fastai.tabular.all import *\n",
    "from fastai.collab import *\n",
    "plt.rcParams['figure.figsize'] = (12, 9)\n",
    "plt.rcParams['font.size'] = 12"
   ]
  },
  {
   "cell_type": "code",
   "execution_count": 199,
   "id": "54dd9699",
   "metadata": {},
   "outputs": [
    {
     "data": {
      "text/html": [
       "<div>\n",
       "<style scoped>\n",
       "    .dataframe tbody tr th:only-of-type {\n",
       "        vertical-align: middle;\n",
       "    }\n",
       "\n",
       "    .dataframe tbody tr th {\n",
       "        vertical-align: top;\n",
       "    }\n",
       "\n",
       "    .dataframe thead th {\n",
       "        text-align: right;\n",
       "    }\n",
       "</style>\n",
       "<table border=\"1\" class=\"dataframe\">\n",
       "  <thead>\n",
       "    <tr style=\"text-align: right;\">\n",
       "      <th></th>\n",
       "      <th>user</th>\n",
       "      <th>movie</th>\n",
       "      <th>rating</th>\n",
       "    </tr>\n",
       "  </thead>\n",
       "  <tbody>\n",
       "    <tr>\n",
       "      <th>0</th>\n",
       "      <td>196</td>\n",
       "      <td>242</td>\n",
       "      <td>3</td>\n",
       "    </tr>\n",
       "    <tr>\n",
       "      <th>1</th>\n",
       "      <td>186</td>\n",
       "      <td>302</td>\n",
       "      <td>3</td>\n",
       "    </tr>\n",
       "    <tr>\n",
       "      <th>2</th>\n",
       "      <td>22</td>\n",
       "      <td>377</td>\n",
       "      <td>1</td>\n",
       "    </tr>\n",
       "    <tr>\n",
       "      <th>3</th>\n",
       "      <td>244</td>\n",
       "      <td>51</td>\n",
       "      <td>2</td>\n",
       "    </tr>\n",
       "    <tr>\n",
       "      <th>4</th>\n",
       "      <td>166</td>\n",
       "      <td>346</td>\n",
       "      <td>1</td>\n",
       "    </tr>\n",
       "  </tbody>\n",
       "</table>\n",
       "</div>"
      ],
      "text/plain": [
       "   user  movie  rating\n",
       "0   196    242       3\n",
       "1   186    302       3\n",
       "2    22    377       1\n",
       "3   244     51       2\n",
       "4   166    346       1"
      ]
     },
     "execution_count": 199,
     "metadata": {},
     "output_type": "execute_result"
    }
   ],
   "source": [
    "#loading the dataset\n",
    "ratings = pd.read_csv('u.data', delimiter='\\t', header=None,\n",
    "                      usecols=(0,1,2), names=['user','movie','rating'])\n",
    "ratings.head()\n",
    "ratings.head()"
   ]
  },
  {
   "cell_type": "code",
   "execution_count": 200,
   "id": "3be21f79",
   "metadata": {},
   "outputs": [
    {
     "data": {
      "text/html": [
       "<div>\n",
       "<style scoped>\n",
       "    .dataframe tbody tr th:only-of-type {\n",
       "        vertical-align: middle;\n",
       "    }\n",
       "\n",
       "    .dataframe tbody tr th {\n",
       "        vertical-align: top;\n",
       "    }\n",
       "\n",
       "    .dataframe thead th {\n",
       "        text-align: right;\n",
       "    }\n",
       "</style>\n",
       "<table border=\"1\" class=\"dataframe\">\n",
       "  <thead>\n",
       "    <tr style=\"text-align: right;\">\n",
       "      <th></th>\n",
       "      <th>movie</th>\n",
       "      <th>title</th>\n",
       "    </tr>\n",
       "  </thead>\n",
       "  <tbody>\n",
       "    <tr>\n",
       "      <th>0</th>\n",
       "      <td>1</td>\n",
       "      <td>Toy Story (1995)</td>\n",
       "    </tr>\n",
       "    <tr>\n",
       "      <th>1</th>\n",
       "      <td>2</td>\n",
       "      <td>GoldenEye (1995)</td>\n",
       "    </tr>\n",
       "    <tr>\n",
       "      <th>2</th>\n",
       "      <td>3</td>\n",
       "      <td>Four Rooms (1995)</td>\n",
       "    </tr>\n",
       "    <tr>\n",
       "      <th>3</th>\n",
       "      <td>4</td>\n",
       "      <td>Get Shorty (1995)</td>\n",
       "    </tr>\n",
       "    <tr>\n",
       "      <th>4</th>\n",
       "      <td>5</td>\n",
       "      <td>Copycat (1995)</td>\n",
       "    </tr>\n",
       "  </tbody>\n",
       "</table>\n",
       "</div>"
      ],
      "text/plain": [
       "   movie              title\n",
       "0      1   Toy Story (1995)\n",
       "1      2   GoldenEye (1995)\n",
       "2      3  Four Rooms (1995)\n",
       "3      4  Get Shorty (1995)\n",
       "4      5     Copycat (1995)"
      ]
     },
     "execution_count": 200,
     "metadata": {},
     "output_type": "execute_result"
    }
   ],
   "source": [
    "#loading the movie code title\n",
    "movies = pd.read_csv('u.item',  delimiter='|', encoding='latin-1',\n",
    "                     usecols=(0,1), names=('movie','title'), header=None)\n",
    "movies.head()"
   ]
  },
  {
   "cell_type": "code",
   "execution_count": 201,
   "id": "77152aaa",
   "metadata": {},
   "outputs": [
    {
     "data": {
      "text/html": [
       "<table border=\"1\" class=\"dataframe\">\n",
       "  <thead>\n",
       "    <tr style=\"text-align: right;\">\n",
       "      <th></th>\n",
       "      <th>user</th>\n",
       "      <th>title</th>\n",
       "      <th>rating</th>\n",
       "    </tr>\n",
       "  </thead>\n",
       "  <tbody>\n",
       "    <tr>\n",
       "      <th>0</th>\n",
       "      <td>328</td>\n",
       "      <td>City Hall (1996)</td>\n",
       "      <td>3</td>\n",
       "    </tr>\n",
       "    <tr>\n",
       "      <th>1</th>\n",
       "      <td>47</td>\n",
       "      <td>Rosewood (1997)</td>\n",
       "      <td>4</td>\n",
       "    </tr>\n",
       "    <tr>\n",
       "      <th>2</th>\n",
       "      <td>184</td>\n",
       "      <td>Big Night (1996)</td>\n",
       "      <td>5</td>\n",
       "    </tr>\n",
       "    <tr>\n",
       "      <th>3</th>\n",
       "      <td>64</td>\n",
       "      <td>Net, The (1995)</td>\n",
       "      <td>3</td>\n",
       "    </tr>\n",
       "    <tr>\n",
       "      <th>4</th>\n",
       "      <td>200</td>\n",
       "      <td>Sudden Death (1995)</td>\n",
       "      <td>3</td>\n",
       "    </tr>\n",
       "    <tr>\n",
       "      <th>5</th>\n",
       "      <td>37</td>\n",
       "      <td>Top Gun (1986)</td>\n",
       "      <td>5</td>\n",
       "    </tr>\n",
       "    <tr>\n",
       "      <th>6</th>\n",
       "      <td>234</td>\n",
       "      <td>Jerry Maguire (1996)</td>\n",
       "      <td>3</td>\n",
       "    </tr>\n",
       "    <tr>\n",
       "      <th>7</th>\n",
       "      <td>174</td>\n",
       "      <td>Midnight in the Garden of Good and Evil (1997)</td>\n",
       "      <td>5</td>\n",
       "    </tr>\n",
       "    <tr>\n",
       "      <th>8</th>\n",
       "      <td>117</td>\n",
       "      <td>Silence of the Lambs, The (1991)</td>\n",
       "      <td>4</td>\n",
       "    </tr>\n",
       "    <tr>\n",
       "      <th>9</th>\n",
       "      <td>145</td>\n",
       "      <td>Matilda (1996)</td>\n",
       "      <td>2</td>\n",
       "    </tr>\n",
       "  </tbody>\n",
       "</table>"
      ],
      "text/plain": [
       "<IPython.core.display.HTML object>"
      ]
     },
     "metadata": {},
     "output_type": "display_data"
    }
   ],
   "source": [
    "#loading the test dataset for predictions\n",
    "ratings1 = pd.read_csv('u1.test', delimiter='\\t', header=None,\n",
    "                      usecols=(0,1,2), names=['user','movie','rating'])\n",
    "Test_data = ratings1.merge(movies)\n",
    "#Test_data.head()\n",
    "Test_data1 = CollabDataLoaders.from_df(Test_data, item_name='title', bs=64)\n",
    "Test_data1.show_batch()"
   ]
  },
  {
   "cell_type": "code",
   "execution_count": 202,
   "id": "31f5fb6e",
   "metadata": {},
   "outputs": [],
   "source": [
    "# sorted(Test_data['user'].value_counts().index)"
   ]
  },
  {
   "cell_type": "code",
   "execution_count": 203,
   "id": "8fa7aa2e",
   "metadata": {},
   "outputs": [
    {
     "data": {
      "text/html": [
       "<div>\n",
       "<style scoped>\n",
       "    .dataframe tbody tr th:only-of-type {\n",
       "        vertical-align: middle;\n",
       "    }\n",
       "\n",
       "    .dataframe tbody tr th {\n",
       "        vertical-align: top;\n",
       "    }\n",
       "\n",
       "    .dataframe thead th {\n",
       "        text-align: right;\n",
       "    }\n",
       "</style>\n",
       "<table border=\"1\" class=\"dataframe\">\n",
       "  <thead>\n",
       "    <tr style=\"text-align: right;\">\n",
       "      <th></th>\n",
       "      <th>user</th>\n",
       "      <th>movie</th>\n",
       "      <th>rating</th>\n",
       "      <th>title</th>\n",
       "    </tr>\n",
       "  </thead>\n",
       "  <tbody>\n",
       "    <tr>\n",
       "      <th>0</th>\n",
       "      <td>196</td>\n",
       "      <td>242</td>\n",
       "      <td>3</td>\n",
       "      <td>Kolya (1996)</td>\n",
       "    </tr>\n",
       "    <tr>\n",
       "      <th>1</th>\n",
       "      <td>63</td>\n",
       "      <td>242</td>\n",
       "      <td>3</td>\n",
       "      <td>Kolya (1996)</td>\n",
       "    </tr>\n",
       "    <tr>\n",
       "      <th>2</th>\n",
       "      <td>226</td>\n",
       "      <td>242</td>\n",
       "      <td>5</td>\n",
       "      <td>Kolya (1996)</td>\n",
       "    </tr>\n",
       "    <tr>\n",
       "      <th>3</th>\n",
       "      <td>154</td>\n",
       "      <td>242</td>\n",
       "      <td>3</td>\n",
       "      <td>Kolya (1996)</td>\n",
       "    </tr>\n",
       "    <tr>\n",
       "      <th>4</th>\n",
       "      <td>306</td>\n",
       "      <td>242</td>\n",
       "      <td>5</td>\n",
       "      <td>Kolya (1996)</td>\n",
       "    </tr>\n",
       "  </tbody>\n",
       "</table>\n",
       "</div>"
      ],
      "text/plain": [
       "   user  movie  rating         title\n",
       "0   196    242       3  Kolya (1996)\n",
       "1    63    242       3  Kolya (1996)\n",
       "2   226    242       5  Kolya (1996)\n",
       "3   154    242       3  Kolya (1996)\n",
       "4   306    242       5  Kolya (1996)"
      ]
     },
     "execution_count": 203,
     "metadata": {},
     "output_type": "execute_result"
    }
   ],
   "source": [
    "#merging the dataframe to replace movie with title\n",
    "ratings = ratings.merge(movies)\n",
    "ratings.head()"
   ]
  },
  {
   "cell_type": "code",
   "execution_count": 204,
   "id": "12594146",
   "metadata": {},
   "outputs": [],
   "source": [
    "# sorted(ratings['user'].value_counts().index)"
   ]
  },
  {
   "cell_type": "code",
   "execution_count": 205,
   "id": "6d7218a6",
   "metadata": {},
   "outputs": [],
   "source": [
    "#using the collaborative filtering data loader \n",
    "dls = CollabDataLoaders.from_df(ratings, item_name='title', bs=64)"
   ]
  },
  {
   "cell_type": "code",
   "execution_count": 206,
   "id": "7bd8939f",
   "metadata": {},
   "outputs": [
    {
     "data": {
      "text/html": [
       "<table border=\"1\" class=\"dataframe\">\n",
       "  <thead>\n",
       "    <tr style=\"text-align: right;\">\n",
       "      <th></th>\n",
       "      <th>user</th>\n",
       "      <th>title</th>\n",
       "      <th>rating</th>\n",
       "    </tr>\n",
       "  </thead>\n",
       "  <tbody>\n",
       "    <tr>\n",
       "      <th>0</th>\n",
       "      <td>778</td>\n",
       "      <td>Tin Men (1987)</td>\n",
       "      <td>3</td>\n",
       "    </tr>\n",
       "    <tr>\n",
       "      <th>1</th>\n",
       "      <td>167</td>\n",
       "      <td>New York Cop (1996)</td>\n",
       "      <td>4</td>\n",
       "    </tr>\n",
       "    <tr>\n",
       "      <th>2</th>\n",
       "      <td>262</td>\n",
       "      <td>Four Weddings and a Funeral (1994)</td>\n",
       "      <td>4</td>\n",
       "    </tr>\n",
       "    <tr>\n",
       "      <th>3</th>\n",
       "      <td>537</td>\n",
       "      <td>Secret of Roan Inish, The (1994)</td>\n",
       "      <td>3</td>\n",
       "    </tr>\n",
       "    <tr>\n",
       "      <th>4</th>\n",
       "      <td>620</td>\n",
       "      <td>Independence Day (ID4) (1996)</td>\n",
       "      <td>5</td>\n",
       "    </tr>\n",
       "    <tr>\n",
       "      <th>5</th>\n",
       "      <td>939</td>\n",
       "      <td>That Old Feeling (1997)</td>\n",
       "      <td>5</td>\n",
       "    </tr>\n",
       "    <tr>\n",
       "      <th>6</th>\n",
       "      <td>867</td>\n",
       "      <td>Return of the Jedi (1983)</td>\n",
       "      <td>5</td>\n",
       "    </tr>\n",
       "    <tr>\n",
       "      <th>7</th>\n",
       "      <td>918</td>\n",
       "      <td>Heathers (1989)</td>\n",
       "      <td>2</td>\n",
       "    </tr>\n",
       "    <tr>\n",
       "      <th>8</th>\n",
       "      <td>642</td>\n",
       "      <td>Island of Dr. Moreau, The (1996)</td>\n",
       "      <td>4</td>\n",
       "    </tr>\n",
       "    <tr>\n",
       "      <th>9</th>\n",
       "      <td>934</td>\n",
       "      <td>English Patient, The (1996)</td>\n",
       "      <td>4</td>\n",
       "    </tr>\n",
       "  </tbody>\n",
       "</table>"
      ],
      "text/plain": [
       "<IPython.core.display.HTML object>"
      ]
     },
     "metadata": {},
     "output_type": "display_data"
    }
   ],
   "source": [
    "dls.show_batch()"
   ]
  },
  {
   "cell_type": "code",
   "execution_count": 226,
   "id": "8e2a5ca3",
   "metadata": {},
   "outputs": [],
   "source": [
    "#using collaborative filtering learner to get the embedding and to make predictions\n",
    "learn = collab_learner(dls, use_nn = True, emb_szs = {\"user\":50, \"title\":50}, n_factors=50, y_range=(0, 5.5))"
   ]
  },
  {
   "cell_type": "code",
   "execution_count": 227,
   "id": "b1210997",
   "metadata": {},
   "outputs": [
    {
     "data": {
      "text/html": [
       "\n",
       "<style>\n",
       "    /* Turns off some styling */\n",
       "    progress {\n",
       "        /* gets rid of default border in Firefox and Opera. */\n",
       "        border: none;\n",
       "        /* Needs to be in here for Safari polyfill so background images work as expected. */\n",
       "        background-size: auto;\n",
       "    }\n",
       "    progress:not([value]), progress:not([value])::-webkit-progress-bar {\n",
       "        background: repeating-linear-gradient(45deg, #7e7e7e, #7e7e7e 10px, #5c5c5c 10px, #5c5c5c 20px);\n",
       "    }\n",
       "    .progress-bar-interrupted, .progress-bar-interrupted::-webkit-progress-bar {\n",
       "        background: #F44336;\n",
       "    }\n",
       "</style>\n"
      ],
      "text/plain": [
       "<IPython.core.display.HTML object>"
      ]
     },
     "metadata": {},
     "output_type": "display_data"
    },
    {
     "data": {
      "text/html": [],
      "text/plain": [
       "<IPython.core.display.HTML object>"
      ]
     },
     "metadata": {},
     "output_type": "display_data"
    },
    {
     "data": {
      "image/png": "[encoded data removed]",
      "text/plain": [
       "<Figure size 864x648 with 1 Axes>"
      ]
     },
     "metadata": {
      "needs_background": "light"
     },
     "output_type": "display_data"
    }
   ],
   "source": [
    "#the following code plots and finds the ideal learning rate for the model\n",
    "lr = learn.lr_find()"
   ]
  },
  {
   "cell_type": "code",
   "execution_count": 228,
   "id": "4c218659",
   "metadata": {},
   "outputs": [
    {
     "data": {
      "text/plain": [
       "SuggestedLRs(valley=0.005248074419796467)"
      ]
     },
     "execution_count": 228,
     "metadata": {},
     "output_type": "execute_result"
    }
   ],
   "source": [
    "lr"
   ]
  },
  {
   "cell_type": "code",
   "execution_count": 229,
   "id": "0d59e028",
   "metadata": {},
   "outputs": [],
   "source": [
    "# learn.fit_one_cycle(5, 5e-3, wd=0.1)"
   ]
  },
  {
   "cell_type": "code",
   "execution_count": 230,
   "id": "2be1d510",
   "metadata": {},
   "outputs": [
    {
     "data": {
      "text/html": [
       "\n",
       "<style>\n",
       "    /* Turns off some styling */\n",
       "    progress {\n",
       "        /* gets rid of default border in Firefox and Opera. */\n",
       "        border: none;\n",
       "        /* Needs to be in here for Safari polyfill so background images work as expected. */\n",
       "        background-size: auto;\n",
       "    }\n",
       "    progress:not([value]), progress:not([value])::-webkit-progress-bar {\n",
       "        background: repeating-linear-gradient(45deg, #7e7e7e, #7e7e7e 10px, #5c5c5c 10px, #5c5c5c 20px);\n",
       "    }\n",
       "    .progress-bar-interrupted, .progress-bar-interrupted::-webkit-progress-bar {\n",
       "        background: #F44336;\n",
       "    }\n",
       "</style>\n"
      ],
      "text/plain": [
       "<IPython.core.display.HTML object>"
      ]
     },
     "metadata": {},
     "output_type": "display_data"
    },
    {
     "data": {
      "text/html": [
       "<table border=\"1\" class=\"dataframe\">\n",
       "  <thead>\n",
       "    <tr style=\"text-align: left;\">\n",
       "      <th>epoch</th>\n",
       "      <th>train_loss</th>\n",
       "      <th>valid_loss</th>\n",
       "      <th>time</th>\n",
       "    </tr>\n",
       "  </thead>\n",
       "  <tbody>\n",
       "    <tr>\n",
       "      <td>0</td>\n",
       "      <td>0.964176</td>\n",
       "      <td>0.995274</td>\n",
       "      <td>00:09</td>\n",
       "    </tr>\n",
       "    <tr>\n",
       "      <td>1</td>\n",
       "      <td>0.933521</td>\n",
       "      <td>0.923376</td>\n",
       "      <td>00:09</td>\n",
       "    </tr>\n",
       "    <tr>\n",
       "      <td>2</td>\n",
       "      <td>0.849824</td>\n",
       "      <td>0.892389</td>\n",
       "      <td>00:09</td>\n",
       "    </tr>\n",
       "    <tr>\n",
       "      <td>3</td>\n",
       "      <td>0.848582</td>\n",
       "      <td>0.858238</td>\n",
       "      <td>00:09</td>\n",
       "    </tr>\n",
       "    <tr>\n",
       "      <td>4</td>\n",
       "      <td>0.808511</td>\n",
       "      <td>0.856611</td>\n",
       "      <td>00:09</td>\n",
       "    </tr>\n",
       "  </tbody>\n",
       "</table>"
      ],
      "text/plain": [
       "<IPython.core.display.HTML object>"
      ]
     },
     "metadata": {},
     "output_type": "display_data"
    }
   ],
   "source": [
    "#fitting the model in 5 cycles and using the suggested learning rate\n",
    "learn.fit_one_cycle(5, .01, wd=0.1)"
   ]
  },
  {
   "cell_type": "code",
   "execution_count": 212,
   "id": "9b86bad3",
   "metadata": {},
   "outputs": [],
   "source": [
    "# learn.fit_one_cycle(10, 1e-1, wd=0.1)"
   ]
  },
  {
   "cell_type": "code",
   "execution_count": 213,
   "id": "a6979f80",
   "metadata": {},
   "outputs": [],
   "source": [
    "user_id = 1\n",
    "movie_id = 100\n",
    "input_data = {'user_id': user_id, 'movie_id': movie_id}"
   ]
  },
  {
   "cell_type": "code",
   "execution_count": 214,
   "id": "fbd5c2f0",
   "metadata": {},
   "outputs": [],
   "source": [
    "Test_data=Test_data.drop(['rating','movie'],axis=1)"
   ]
  },
  {
   "cell_type": "code",
   "execution_count": 215,
   "id": "5845f49a",
   "metadata": {},
   "outputs": [
    {
     "data": {
      "text/html": [
       "\n",
       "<style>\n",
       "    /* Turns off some styling */\n",
       "    progress {\n",
       "        /* gets rid of default border in Firefox and Opera. */\n",
       "        border: none;\n",
       "        /* Needs to be in here for Safari polyfill so background images work as expected. */\n",
       "        background-size: auto;\n",
       "    }\n",
       "    progress:not([value]), progress:not([value])::-webkit-progress-bar {\n",
       "        background: repeating-linear-gradient(45deg, #7e7e7e, #7e7e7e 10px, #5c5c5c 10px, #5c5c5c 20px);\n",
       "    }\n",
       "    .progress-bar-interrupted, .progress-bar-interrupted::-webkit-progress-bar {\n",
       "        background: #F44336;\n",
       "    }\n",
       "</style>\n"
      ],
      "text/plain": [
       "<IPython.core.display.HTML object>"
      ]
     },
     "metadata": {},
     "output_type": "display_data"
    },
    {
     "data": {
      "text/html": [],
      "text/plain": [
       "<IPython.core.display.HTML object>"
      ]
     },
     "metadata": {},
     "output_type": "display_data"
    }
   ],
   "source": [
    "dl = learn.dls.test_dl(Test_data, bs=64) # apply transforms on the test data\n",
    "preds,  _ = learn.get_preds(dl=dl) # get predictions on the test data"
   ]
  },
  {
   "cell_type": "code",
   "execution_count": 216,
   "id": "b4747287",
   "metadata": {},
   "outputs": [
    {
     "data": {
      "text/html": [
       "<table border=\"1\" class=\"dataframe\">\n",
       "  <thead>\n",
       "    <tr style=\"text-align: right;\">\n",
       "      <th></th>\n",
       "      <th>user</th>\n",
       "      <th>title</th>\n",
       "    </tr>\n",
       "  </thead>\n",
       "  <tbody>\n",
       "    <tr>\n",
       "      <th>0</th>\n",
       "      <td>1</td>\n",
       "      <td>Shanghai Triad (Yao a yao yao dao waipo qiao) (1995)</td>\n",
       "    </tr>\n",
       "    <tr>\n",
       "      <th>1</th>\n",
       "      <td>9</td>\n",
       "      <td>Shanghai Triad (Yao a yao yao dao waipo qiao) (1995)</td>\n",
       "    </tr>\n",
       "    <tr>\n",
       "      <th>2</th>\n",
       "      <td>63</td>\n",
       "      <td>Shanghai Triad (Yao a yao yao dao waipo qiao) (1995)</td>\n",
       "    </tr>\n",
       "    <tr>\n",
       "      <th>3</th>\n",
       "      <td>79</td>\n",
       "      <td>Shanghai Triad (Yao a yao yao dao waipo qiao) (1995)</td>\n",
       "    </tr>\n",
       "    <tr>\n",
       "      <th>4</th>\n",
       "      <td>90</td>\n",
       "      <td>Shanghai Triad (Yao a yao yao dao waipo qiao) (1995)</td>\n",
       "    </tr>\n",
       "    <tr>\n",
       "      <th>5</th>\n",
       "      <td>409</td>\n",
       "      <td>Shanghai Triad (Yao a yao yao dao waipo qiao) (1995)</td>\n",
       "    </tr>\n",
       "    <tr>\n",
       "      <th>6</th>\n",
       "      <td>1</td>\n",
       "      <td>Richard III (1995)</td>\n",
       "    </tr>\n",
       "    <tr>\n",
       "      <th>7</th>\n",
       "      <td>7</td>\n",
       "      <td>Richard III (1995)</td>\n",
       "    </tr>\n",
       "    <tr>\n",
       "      <th>8</th>\n",
       "      <td>49</td>\n",
       "      <td>Richard III (1995)</td>\n",
       "    </tr>\n",
       "    <tr>\n",
       "      <th>9</th>\n",
       "      <td>59</td>\n",
       "      <td>Richard III (1995)</td>\n",
       "    </tr>\n",
       "  </tbody>\n",
       "</table>"
      ],
      "text/plain": [
       "<IPython.core.display.HTML object>"
      ]
     },
     "metadata": {},
     "output_type": "display_data"
    }
   ],
   "source": [
    "dl.show_batch()"
   ]
  },
  {
   "cell_type": "code",
   "execution_count": 217,
   "id": "683260ea",
   "metadata": {},
   "outputs": [
    {
     "data": {
      "text/plain": [
       "tensor([[4.1295],\n",
       "        [4.2627],\n",
       "        [3.5281],\n",
       "        ...,\n",
       "        [3.6497],\n",
       "        [1.2877],\n",
       "        [4.2923]])"
      ]
     },
     "execution_count": 217,
     "metadata": {},
     "output_type": "execute_result"
    }
   ],
   "source": [
    "preds #predicted values"
   ]
  },
  {
   "cell_type": "code",
   "execution_count": 218,
   "id": "e8724d9a",
   "metadata": {},
   "outputs": [
    {
     "data": {
      "text/html": [
       "<div>\n",
       "<style scoped>\n",
       "    .dataframe tbody tr th:only-of-type {\n",
       "        vertical-align: middle;\n",
       "    }\n",
       "\n",
       "    .dataframe tbody tr th {\n",
       "        vertical-align: top;\n",
       "    }\n",
       "\n",
       "    .dataframe thead th {\n",
       "        text-align: right;\n",
       "    }\n",
       "</style>\n",
       "<table border=\"1\" class=\"dataframe\">\n",
       "  <thead>\n",
       "    <tr style=\"text-align: right;\">\n",
       "      <th></th>\n",
       "      <th>Prediction</th>\n",
       "    </tr>\n",
       "  </thead>\n",
       "  <tbody>\n",
       "    <tr>\n",
       "      <th>0</th>\n",
       "      <td>4.129464</td>\n",
       "    </tr>\n",
       "    <tr>\n",
       "      <th>1</th>\n",
       "      <td>4.262671</td>\n",
       "    </tr>\n",
       "    <tr>\n",
       "      <th>2</th>\n",
       "      <td>3.528060</td>\n",
       "    </tr>\n",
       "    <tr>\n",
       "      <th>3</th>\n",
       "      <td>4.283675</td>\n",
       "    </tr>\n",
       "    <tr>\n",
       "      <th>4</th>\n",
       "      <td>4.282936</td>\n",
       "    </tr>\n",
       "    <tr>\n",
       "      <th>5</th>\n",
       "      <td>3.595988</td>\n",
       "    </tr>\n",
       "    <tr>\n",
       "      <th>6</th>\n",
       "      <td>3.995918</td>\n",
       "    </tr>\n",
       "    <tr>\n",
       "      <th>7</th>\n",
       "      <td>4.202776</td>\n",
       "    </tr>\n",
       "    <tr>\n",
       "      <th>8</th>\n",
       "      <td>3.505482</td>\n",
       "    </tr>\n",
       "    <tr>\n",
       "      <th>9</th>\n",
       "      <td>4.277795</td>\n",
       "    </tr>\n",
       "  </tbody>\n",
       "</table>\n",
       "</div>"
      ],
      "text/plain": [
       "   Prediction\n",
       "0    4.129464\n",
       "1    4.262671\n",
       "2    3.528060\n",
       "3    4.283675\n",
       "4    4.282936\n",
       "5    3.595988\n",
       "6    3.995918\n",
       "7    4.202776\n",
       "8    3.505482\n",
       "9    4.277795"
      ]
     },
     "execution_count": 218,
     "metadata": {},
     "output_type": "execute_result"
    }
   ],
   "source": [
    "pd.DataFrame(preds.numpy(),columns=[\"Prediction\"] ).head(10)#predicted values in a data frame"
   ]
  },
  {
   "cell_type": "code",
   "execution_count": 219,
   "id": "e626a43f",
   "metadata": {},
   "outputs": [
    {
     "data": {
      "text/html": [
       "<div>\n",
       "<style scoped>\n",
       "    .dataframe tbody tr th:only-of-type {\n",
       "        vertical-align: middle;\n",
       "    }\n",
       "\n",
       "    .dataframe tbody tr th {\n",
       "        vertical-align: top;\n",
       "    }\n",
       "\n",
       "    .dataframe thead th {\n",
       "        text-align: right;\n",
       "    }\n",
       "</style>\n",
       "<table border=\"1\" class=\"dataframe\">\n",
       "  <thead>\n",
       "    <tr style=\"text-align: right;\">\n",
       "      <th></th>\n",
       "      <th>user</th>\n",
       "      <th>title</th>\n",
       "    </tr>\n",
       "  </thead>\n",
       "  <tbody>\n",
       "    <tr>\n",
       "      <th>0</th>\n",
       "      <td>1</td>\n",
       "      <td>Shanghai Triad (Yao a yao yao dao waipo qiao) (1995)</td>\n",
       "    </tr>\n",
       "    <tr>\n",
       "      <th>1</th>\n",
       "      <td>9</td>\n",
       "      <td>Shanghai Triad (Yao a yao yao dao waipo qiao) (1995)</td>\n",
       "    </tr>\n",
       "    <tr>\n",
       "      <th>2</th>\n",
       "      <td>63</td>\n",
       "      <td>Shanghai Triad (Yao a yao yao dao waipo qiao) (1995)</td>\n",
       "    </tr>\n",
       "    <tr>\n",
       "      <th>3</th>\n",
       "      <td>79</td>\n",
       "      <td>Shanghai Triad (Yao a yao yao dao waipo qiao) (1995)</td>\n",
       "    </tr>\n",
       "    <tr>\n",
       "      <th>4</th>\n",
       "      <td>90</td>\n",
       "      <td>Shanghai Triad (Yao a yao yao dao waipo qiao) (1995)</td>\n",
       "    </tr>\n",
       "    <tr>\n",
       "      <th>5</th>\n",
       "      <td>409</td>\n",
       "      <td>Shanghai Triad (Yao a yao yao dao waipo qiao) (1995)</td>\n",
       "    </tr>\n",
       "    <tr>\n",
       "      <th>6</th>\n",
       "      <td>1</td>\n",
       "      <td>Richard III (1995)</td>\n",
       "    </tr>\n",
       "    <tr>\n",
       "      <th>7</th>\n",
       "      <td>7</td>\n",
       "      <td>Richard III (1995)</td>\n",
       "    </tr>\n",
       "    <tr>\n",
       "      <th>8</th>\n",
       "      <td>49</td>\n",
       "      <td>Richard III (1995)</td>\n",
       "    </tr>\n",
       "    <tr>\n",
       "      <th>9</th>\n",
       "      <td>59</td>\n",
       "      <td>Richard III (1995)</td>\n",
       "    </tr>\n",
       "  </tbody>\n",
       "</table>\n",
       "</div>"
      ],
      "text/plain": [
       "   user                                                 title\n",
       "0     1  Shanghai Triad (Yao a yao yao dao waipo qiao) (1995)\n",
       "1     9  Shanghai Triad (Yao a yao yao dao waipo qiao) (1995)\n",
       "2    63  Shanghai Triad (Yao a yao yao dao waipo qiao) (1995)\n",
       "3    79  Shanghai Triad (Yao a yao yao dao waipo qiao) (1995)\n",
       "4    90  Shanghai Triad (Yao a yao yao dao waipo qiao) (1995)\n",
       "5   409  Shanghai Triad (Yao a yao yao dao waipo qiao) (1995)\n",
       "6     1                                    Richard III (1995)\n",
       "7     7                                    Richard III (1995)\n",
       "8    49                                    Richard III (1995)\n",
       "9    59                                    Richard III (1995)"
      ]
     },
     "execution_count": 219,
     "metadata": {},
     "output_type": "execute_result"
    }
   ],
   "source": [
    "Test_data.head(10)"
   ]
  },
  {
   "cell_type": "code",
   "execution_count": 220,
   "id": "7913fb38",
   "metadata": {},
   "outputs": [
    {
     "data": {
      "text/plain": [
       "array(['Star Wars (1977)', 'Contact (1997)', 'Fargo (1996)',\n",
       "       'Return of the Jedi (1983)', 'Liar Liar (1997)',\n",
       "       'English Patient, The (1996)', 'Scream (1996)', 'Toy Story (1995)',\n",
       "       'Air Force One (1997)', 'Independence Day (ID4) (1996)'],\n",
       "      dtype=object)"
      ]
     },
     "execution_count": 220,
     "metadata": {},
     "output_type": "execute_result"
    }
   ],
   "source": [
    "#getting the top 1000 viewed movies\n",
    "g = ratings.groupby('title')['rating'].count()\n",
    "top_movies = g.sort_values(ascending=False).index.values[:1000]\n",
    "top_movies[:10]"
   ]
  },
  {
   "cell_type": "code",
   "execution_count": 221,
   "id": "44de858a",
   "metadata": {},
   "outputs": [
    {
     "data": {
      "text/html": [
       "<div>\n",
       "<style scoped>\n",
       "    .dataframe tbody tr th:only-of-type {\n",
       "        vertical-align: middle;\n",
       "    }\n",
       "\n",
       "    .dataframe tbody tr th {\n",
       "        vertical-align: top;\n",
       "    }\n",
       "\n",
       "    .dataframe thead th {\n",
       "        text-align: right;\n",
       "    }\n",
       "</style>\n",
       "<table border=\"1\" class=\"dataframe\">\n",
       "  <thead>\n",
       "    <tr style=\"text-align: right;\">\n",
       "      <th></th>\n",
       "      <th>rating</th>\n",
       "    </tr>\n",
       "    <tr>\n",
       "      <th>title</th>\n",
       "      <th></th>\n",
       "    </tr>\n",
       "  </thead>\n",
       "  <tbody>\n",
       "    <tr>\n",
       "      <th>'Til There Was You (1997)</th>\n",
       "      <td>2.333333</td>\n",
       "    </tr>\n",
       "    <tr>\n",
       "      <th>1-900 (1994)</th>\n",
       "      <td>2.600000</td>\n",
       "    </tr>\n",
       "    <tr>\n",
       "      <th>101 Dalmatians (1996)</th>\n",
       "      <td>2.908257</td>\n",
       "    </tr>\n",
       "    <tr>\n",
       "      <th>12 Angry Men (1957)</th>\n",
       "      <td>4.344000</td>\n",
       "    </tr>\n",
       "    <tr>\n",
       "      <th>187 (1997)</th>\n",
       "      <td>3.024390</td>\n",
       "    </tr>\n",
       "    <tr>\n",
       "      <th>...</th>\n",
       "      <td>...</td>\n",
       "    </tr>\n",
       "    <tr>\n",
       "      <th>Young Guns II (1990)</th>\n",
       "      <td>2.772727</td>\n",
       "    </tr>\n",
       "    <tr>\n",
       "      <th>Young Poisoner's Handbook, The (1995)</th>\n",
       "      <td>3.341463</td>\n",
       "    </tr>\n",
       "    <tr>\n",
       "      <th>Zeus and Roxanne (1997)</th>\n",
       "      <td>2.166667</td>\n",
       "    </tr>\n",
       "    <tr>\n",
       "      <th>unknown</th>\n",
       "      <td>3.444444</td>\n",
       "    </tr>\n",
       "    <tr>\n",
       "      <th>Á köldum klaka (Cold Fever) (1994)</th>\n",
       "      <td>3.000000</td>\n",
       "    </tr>\n",
       "  </tbody>\n",
       "</table>\n",
       "<p>1664 rows × 1 columns</p>\n",
       "</div>"
      ],
      "text/plain": [
       "                                         rating\n",
       "title                                          \n",
       "'Til There Was You (1997)              2.333333\n",
       "1-900 (1994)                           2.600000\n",
       "101 Dalmatians (1996)                  2.908257\n",
       "12 Angry Men (1957)                    4.344000\n",
       "187 (1997)                             3.024390\n",
       "...                                         ...\n",
       "Young Guns II (1990)                   2.772727\n",
       "Young Poisoner's Handbook, The (1995)  3.341463\n",
       "Zeus and Roxanne (1997)                2.166667\n",
       "unknown                                3.444444\n",
       "Á köldum klaka (Cold Fever) (1994)     3.000000\n",
       "\n",
       "[1664 rows x 1 columns]"
      ]
     },
     "execution_count": 221,
     "metadata": {},
     "output_type": "execute_result"
    }
   ],
   "source": [
    "#finding the mean  rating for the above top 1000 movies\n",
    "h = ratings.groupby('title')['rating'].mean()\n",
    "pd.DataFrame(h)"
   ]
  },
  {
   "cell_type": "code",
   "execution_count": 222,
   "id": "13a2bf7e",
   "metadata": {},
   "outputs": [],
   "source": [
    "meta_data=pd.DataFrame(top_movies,columns=[\"title\"] ).merge(pd.DataFrame(h),left_on=\"title\", right_on=\"title\")"
   ]
  },
  {
   "cell_type": "code",
   "execution_count": 223,
   "id": "ef8024d0",
   "metadata": {},
   "outputs": [],
   "source": [
    "#Getting the meta data in a tsv file to be used in embbeding projector\n",
    "meta_data.to_csv('metadata.tsv', index=False, sep='\\t')"
   ]
  },
  {
   "cell_type": "code",
   "execution_count": 224,
   "id": "005baeca",
   "metadata": {},
   "outputs": [
    {
     "ename": "AttributeError",
     "evalue": "'EmbeddingNN' object has no attribute 'bias'",
     "output_type": "error",
     "traceback": [
      "\u001b[1;31m---------------------------------------------------------------------------\u001b[0m",
      "\u001b[1;31mAttributeError\u001b[0m                            Traceback (most recent call last)",
      "Input \u001b[1;32mIn [224]\u001b[0m, in \u001b[0;36m<cell line: 2>\u001b[1;34m()\u001b[0m\n\u001b[0;32m      1\u001b[0m \u001b[38;5;66;03m#getting the bias for each of the top 1000 movies\u001b[39;00m\n\u001b[1;32m----> 2\u001b[0m movie_bias \u001b[38;5;241m=\u001b[39m \u001b[43mlearn\u001b[49m\u001b[38;5;241;43m.\u001b[39;49m\u001b[43mmodel\u001b[49m\u001b[38;5;241;43m.\u001b[39;49m\u001b[43mbias\u001b[49m(top_movies, is_item\u001b[38;5;241m=\u001b[39m\u001b[38;5;28;01mTrue\u001b[39;00m)\n\u001b[0;32m      3\u001b[0m movie_bias\u001b[38;5;241m.\u001b[39mshape\n",
      "File \u001b[1;32m~\\anaconda3\\lib\\site-packages\\torch\\nn\\modules\\module.py:1207\u001b[0m, in \u001b[0;36mModule.__getattr__\u001b[1;34m(self, name)\u001b[0m\n\u001b[0;32m   1205\u001b[0m     \u001b[38;5;28;01mif\u001b[39;00m name \u001b[38;5;129;01min\u001b[39;00m modules:\n\u001b[0;32m   1206\u001b[0m         \u001b[38;5;28;01mreturn\u001b[39;00m modules[name]\n\u001b[1;32m-> 1207\u001b[0m \u001b[38;5;28;01mraise\u001b[39;00m \u001b[38;5;167;01mAttributeError\u001b[39;00m(\u001b[38;5;124m\"\u001b[39m\u001b[38;5;124m'\u001b[39m\u001b[38;5;132;01m{}\u001b[39;00m\u001b[38;5;124m'\u001b[39m\u001b[38;5;124m object has no attribute \u001b[39m\u001b[38;5;124m'\u001b[39m\u001b[38;5;132;01m{}\u001b[39;00m\u001b[38;5;124m'\u001b[39m\u001b[38;5;124m\"\u001b[39m\u001b[38;5;241m.\u001b[39mformat(\n\u001b[0;32m   1208\u001b[0m     \u001b[38;5;28mtype\u001b[39m(\u001b[38;5;28mself\u001b[39m)\u001b[38;5;241m.\u001b[39m\u001b[38;5;18m__name__\u001b[39m, name))\n",
      "\u001b[1;31mAttributeError\u001b[0m: 'EmbeddingNN' object has no attribute 'bias'"
     ]
    }
   ],
   "source": [
    "#getting the bias for each of the top 1000 movies\n",
    "movie_bias = learn.model.bias(top_movies, is_item=True)\n",
    "movie_bias.shape"
   ]
  },
  {
   "cell_type": "code",
   "execution_count": null,
   "id": "0ad6b27c",
   "metadata": {},
   "outputs": [],
   "source": [
    "mean_ratings = ratings.groupby('title')['rating'].mean()\n",
    "movie_ratings = [(b, i, mean_ratings.loc[i]) for i,b in zip(top_movies,movie_bias)]"
   ]
  },
  {
   "cell_type": "code",
   "execution_count": null,
   "id": "684c5bf2",
   "metadata": {},
   "outputs": [],
   "source": [
    "item0 = lambda o:o[0]\n",
    "sorted(movie_ratings, key=item0)[:15]"
   ]
  },
  {
   "cell_type": "code",
   "execution_count": null,
   "id": "6f666147",
   "metadata": {},
   "outputs": [],
   "source": [
    "sorted(movie_ratings, key=lambda o: o[0], reverse=True)[:15]"
   ]
  },
  {
   "cell_type": "code",
   "execution_count": null,
   "id": "b74d0958",
   "metadata": {},
   "outputs": [],
   "source": [
    "#Movie_weights"
   ]
  },
  {
   "cell_type": "code",
   "execution_count": null,
   "id": "77b73509",
   "metadata": {},
   "outputs": [],
   "source": [
    "#finding the weight or the embbeding vector\n",
    "movie_w = learn.model.weight(top_movies, is_item=True)\n",
    "movie_w.shape"
   ]
  },
  {
   "cell_type": "code",
   "execution_count": null,
   "id": "9e71977e",
   "metadata": {},
   "outputs": [],
   "source": [
    "movie_pca = movie_w.pca(3)\n",
    "movie_pca.shape"
   ]
  },
  {
   "cell_type": "code",
   "execution_count": null,
   "id": "07a8761c",
   "metadata": {},
   "outputs": [],
   "source": [
    "embedding_df=pd.DataFrame(movie_w)"
   ]
  },
  {
   "cell_type": "code",
   "execution_count": null,
   "id": "5e67be3b",
   "metadata": {},
   "outputs": [],
   "source": [
    "embedding_df"
   ]
  },
  {
   "cell_type": "code",
   "execution_count": null,
   "id": "5ce5d515",
   "metadata": {},
   "outputs": [],
   "source": [
    "#getting a tsv file for the embedding vector to visualize in the embbeding projector\n",
    "embedding_df.to_csv('Embedding_output.tsv', sep='\\t', index=None, header=None)"
   ]
  },
  {
   "cell_type": "code",
   "execution_count": null,
   "id": "6393023f",
   "metadata": {},
   "outputs": [],
   "source": [
    "#Using pca to reduce dimension from 50 to 3\n",
    "fac0,fac1,fac2 = movie_pca.t()\n",
    "movie_comp = [(f, i) for f,i in zip(fac0, top_movies)]"
   ]
  },
  {
   "cell_type": "code",
   "execution_count": null,
   "id": "55484d73",
   "metadata": {},
   "outputs": [],
   "source": [
    "#Ploting 2d embbeding\n",
    "idxs = np.random.choice(len(top_movies), 50, replace=False)\n",
    "idxs = list(range(50))\n",
    "X = fac0[idxs]\n",
    "Y = fac2[idxs]\n",
    "plt.figure(figsize=(15,15))\n",
    "plt.scatter(X, Y)\n",
    "for i, x, y in zip(top_movies[idxs], X, Y):\n",
    "    plt.text(x,y,i, color=np.random.rand(3)*0.7, fontsize=11)\n",
    "plt.show()"
   ]
  },
  {
   "cell_type": "code",
   "execution_count": null,
   "id": "959bc1a6",
   "metadata": {},
   "outputs": [],
   "source": [
    "u = ratings.groupby('user')['rating'].count()\n",
    "top_u = u.sort_values(ascending=False).index.values[:1000]\n",
    "top_u[:10]"
   ]
  },
  {
   "cell_type": "code",
   "execution_count": null,
   "id": "9de49059",
   "metadata": {},
   "outputs": [],
   "source": [
    "# Tensor of weights for u_weight\n",
    "u_ww = learn.model.u.weights.numpy()\n",
    "u_ww.shape \n",
    "\n",
    "# Tensor of weights for i_weight\n",
    "i_ww = (learn.model.weight(top_movies, is_item=True).numpy()).transpose()\n",
    "i_ww.shape\n",
    "\n",
    "# Dot product similarity between all users and items\n",
    "array = np.dot(u_ww, i_ww)\n",
    "\n",
    "# Matrix with rating output\n",
    "matrix = pd.DataFrame(array, index = all_users)\n",
    "\n",
    "# Rank top 50 venues per user\n",
    "all_rec_df = pd.DataFrame(matrix.apply(lambda s, n: pd.Series(s.nlargest(n).index), axis=1, n=50))\n"
   ]
  },
  {
   "cell_type": "code",
   "execution_count": null,
   "id": "1b47d303",
   "metadata": {},
   "outputs": [],
   "source": [
    "from fastai.collab import *\n",
    "\n",
    "# Create a collab_learner\n",
    "learn = collab_learner(dls, n_factors=50, y_range=(0, 5.5))\n",
    "\n",
    "# Train the model\n",
    "learn.fit_one_cycle(5)\n",
    "\n",
    "# Get the user embeddings\n",
    "user_embeddings = learn.model.u_weight.weight.detach().numpy()\n",
    "\n",
    "# Print the user embeddings\n",
    "print(user_embeddings)\n"
   ]
  },
  {
   "cell_type": "code",
   "execution_count": 232,
   "id": "85435708",
   "metadata": {},
   "outputs": [],
   "source": [
    "all_users = ratings['user'].unique()\n",
    "all_movies = ratings['movie'].unique()"
   ]
  },
  {
   "cell_type": "code",
   "execution_count": 237,
   "id": "f6a40439",
   "metadata": {},
   "outputs": [],
   "source": [
    "u_ww = learn.model.embeds[0].weight[1:].cpu().detach().numpy()\n",
    "u_ww.shape\n",
    "\n",
    "# Tensor of weights for i_weight\n",
    "i_ww = (learn.model.embeds[1].weight[1:].cpu().detach().numpy()).transpose()\n",
    "i_ww.shape\n",
    "\n",
    "# Dot product similarity between all users and items\n",
    "array = np.dot(u_ww, i_ww)\n",
    "\n",
    "# Matrix with rating output\n",
    "matrix = pd.DataFrame(array, index = all_users)\n",
    "\n",
    "# Rank top 50 venues per user\n",
    "all_rec_df = pd.DataFrame(matrix.apply(lambda s, n: pd.Series(s.nlargest(n).index), axis=1, n=5))\n"
   ]
  },
  {
   "cell_type": "code",
   "execution_count": 238,
   "id": "1fa57e68",
   "metadata": {},
   "outputs": [
    {
     "data": {
      "text/html": [
       "<div>\n",
       "<style scoped>\n",
       "    .dataframe tbody tr th:only-of-type {\n",
       "        vertical-align: middle;\n",
       "    }\n",
       "\n",
       "    .dataframe tbody tr th {\n",
       "        vertical-align: top;\n",
       "    }\n",
       "\n",
       "    .dataframe thead th {\n",
       "        text-align: right;\n",
       "    }\n",
       "</style>\n",
       "<table border=\"1\" class=\"dataframe\">\n",
       "  <thead>\n",
       "    <tr style=\"text-align: right;\">\n",
       "      <th></th>\n",
       "      <th>0</th>\n",
       "      <th>1</th>\n",
       "      <th>2</th>\n",
       "      <th>3</th>\n",
       "      <th>4</th>\n",
       "    </tr>\n",
       "  </thead>\n",
       "  <tbody>\n",
       "    <tr>\n",
       "      <th>196</th>\n",
       "      <td>191</td>\n",
       "      <td>124</td>\n",
       "      <td>325</td>\n",
       "      <td>157</td>\n",
       "      <td>1377</td>\n",
       "    </tr>\n",
       "    <tr>\n",
       "      <th>63</th>\n",
       "      <td>1102</td>\n",
       "      <td>1507</td>\n",
       "      <td>1485</td>\n",
       "      <td>883</td>\n",
       "      <td>232</td>\n",
       "    </tr>\n",
       "    <tr>\n",
       "      <th>226</th>\n",
       "      <td>1636</td>\n",
       "      <td>1100</td>\n",
       "      <td>1130</td>\n",
       "      <td>1485</td>\n",
       "      <td>1527</td>\n",
       "    </tr>\n",
       "    <tr>\n",
       "      <th>154</th>\n",
       "      <td>1238</td>\n",
       "      <td>721</td>\n",
       "      <td>124</td>\n",
       "      <td>396</td>\n",
       "      <td>493</td>\n",
       "    </tr>\n",
       "    <tr>\n",
       "      <th>306</th>\n",
       "      <td>433</td>\n",
       "      <td>547</td>\n",
       "      <td>352</td>\n",
       "      <td>883</td>\n",
       "      <td>1281</td>\n",
       "    </tr>\n",
       "    <tr>\n",
       "      <th>...</th>\n",
       "      <td>...</td>\n",
       "      <td>...</td>\n",
       "      <td>...</td>\n",
       "      <td>...</td>\n",
       "      <td>...</td>\n",
       "    </tr>\n",
       "    <tr>\n",
       "      <th>799</th>\n",
       "      <td>1238</td>\n",
       "      <td>414</td>\n",
       "      <td>912</td>\n",
       "      <td>152</td>\n",
       "      <td>1485</td>\n",
       "    </tr>\n",
       "    <tr>\n",
       "      <th>358</th>\n",
       "      <td>1010</td>\n",
       "      <td>581</td>\n",
       "      <td>1116</td>\n",
       "      <td>1142</td>\n",
       "      <td>398</td>\n",
       "    </tr>\n",
       "    <tr>\n",
       "      <th>410</th>\n",
       "      <td>1238</td>\n",
       "      <td>1485</td>\n",
       "      <td>1527</td>\n",
       "      <td>433</td>\n",
       "      <td>1100</td>\n",
       "    </tr>\n",
       "    <tr>\n",
       "      <th>598</th>\n",
       "      <td>721</td>\n",
       "      <td>952</td>\n",
       "      <td>986</td>\n",
       "      <td>690</td>\n",
       "      <td>478</td>\n",
       "    </tr>\n",
       "    <tr>\n",
       "      <th>873</th>\n",
       "      <td>1232</td>\n",
       "      <td>1235</td>\n",
       "      <td>1302</td>\n",
       "      <td>1477</td>\n",
       "      <td>297</td>\n",
       "    </tr>\n",
       "  </tbody>\n",
       "</table>\n",
       "<p>943 rows × 5 columns</p>\n",
       "</div>"
      ],
      "text/plain": [
       "        0     1     2     3     4\n",
       "196   191   124   325   157  1377\n",
       "63   1102  1507  1485   883   232\n",
       "226  1636  1100  1130  1485  1527\n",
       "154  1238   721   124   396   493\n",
       "306   433   547   352   883  1281\n",
       "..    ...   ...   ...   ...   ...\n",
       "799  1238   414   912   152  1485\n",
       "358  1010   581  1116  1142   398\n",
       "410  1238  1485  1527   433  1100\n",
       "598   721   952   986   690   478\n",
       "873  1232  1235  1302  1477   297\n",
       "\n",
       "[943 rows x 5 columns]"
      ]
     },
     "execution_count": 238,
     "metadata": {},
     "output_type": "execute_result"
    }
   ],
   "source": [
    "all_rec_df"
   ]
  },
  {
   "cell_type": "code",
   "execution_count": 239,
   "id": "b467be99",
   "metadata": {},
   "outputs": [],
   "source": [
    "all_rec_df_title = all_rec_df.replace(dict(zip(movies['movie'], movies['title'])))"
   ]
  },
  {
   "cell_type": "code",
   "execution_count": 240,
   "id": "ccbf0324",
   "metadata": {},
   "outputs": [
    {
     "data": {
      "text/html": [
       "<div>\n",
       "<style scoped>\n",
       "    .dataframe tbody tr th:only-of-type {\n",
       "        vertical-align: middle;\n",
       "    }\n",
       "\n",
       "    .dataframe tbody tr th {\n",
       "        vertical-align: top;\n",
       "    }\n",
       "\n",
       "    .dataframe thead th {\n",
       "        text-align: right;\n",
       "    }\n",
       "</style>\n",
       "<table border=\"1\" class=\"dataframe\">\n",
       "  <thead>\n",
       "    <tr style=\"text-align: right;\">\n",
       "      <th></th>\n",
       "      <th>0</th>\n",
       "      <th>1</th>\n",
       "      <th>2</th>\n",
       "      <th>3</th>\n",
       "      <th>4</th>\n",
       "    </tr>\n",
       "  </thead>\n",
       "  <tbody>\n",
       "    <tr>\n",
       "      <th>196</th>\n",
       "      <td>Amadeus (1984)</td>\n",
       "      <td>Lone Star (1996)</td>\n",
       "      <td>Crash (1996)</td>\n",
       "      <td>Platoon (1986)</td>\n",
       "      <td>Hotel de Love (1996)</td>\n",
       "    </tr>\n",
       "    <tr>\n",
       "      <th>63</th>\n",
       "      <td>Two Much (1996)</td>\n",
       "      <td>Three Lives and Only One Death (1996)</td>\n",
       "      <td>Colonel Chabert, Le (1994)</td>\n",
       "      <td>Telling Lies in America (1997)</td>\n",
       "      <td>Young Guns (1988)</td>\n",
       "    </tr>\n",
       "    <tr>\n",
       "      <th>226</th>\n",
       "      <td>Brothers in Trouble (1995)</td>\n",
       "      <td>What Happened Was... (1994)</td>\n",
       "      <td>Jupiter's Wife (1994)</td>\n",
       "      <td>Colonel Chabert, Le (1994)</td>\n",
       "      <td>Senseless (1998)</td>\n",
       "    </tr>\n",
       "    <tr>\n",
       "      <th>154</th>\n",
       "      <td>Full Speed (1996)</td>\n",
       "      <td>Mallrats (1995)</td>\n",
       "      <td>Lone Star (1996)</td>\n",
       "      <td>Serial Mom (1994)</td>\n",
       "      <td>Thin Man, The (1934)</td>\n",
       "    </tr>\n",
       "    <tr>\n",
       "      <th>306</th>\n",
       "      <td>Heathers (1989)</td>\n",
       "      <td>Young Poisoner's Handbook, The (1995)</td>\n",
       "      <td>Spice World (1997)</td>\n",
       "      <td>Telling Lies in America (1997)</td>\n",
       "      <td>Manny &amp; Lo (1996)</td>\n",
       "    </tr>\n",
       "    <tr>\n",
       "      <th>...</th>\n",
       "      <td>...</td>\n",
       "      <td>...</td>\n",
       "      <td>...</td>\n",
       "      <td>...</td>\n",
       "      <td>...</td>\n",
       "    </tr>\n",
       "    <tr>\n",
       "      <th>799</th>\n",
       "      <td>Full Speed (1996)</td>\n",
       "      <td>My Favorite Year (1982)</td>\n",
       "      <td>U.S. Marshalls (1998)</td>\n",
       "      <td>Sleeper (1973)</td>\n",
       "      <td>Colonel Chabert, Le (1994)</td>\n",
       "    </tr>\n",
       "    <tr>\n",
       "      <th>358</th>\n",
       "      <td>Basquiat (1996)</td>\n",
       "      <td>Kalifornia (1993)</td>\n",
       "      <td>Mark of Zorro, The (1940)</td>\n",
       "      <td>When We Were Kings (1996)</td>\n",
       "      <td>Super Mario Bros. (1993)</td>\n",
       "    </tr>\n",
       "    <tr>\n",
       "      <th>410</th>\n",
       "      <td>Full Speed (1996)</td>\n",
       "      <td>Colonel Chabert, Le (1994)</td>\n",
       "      <td>Senseless (1998)</td>\n",
       "      <td>Heathers (1989)</td>\n",
       "      <td>What Happened Was... (1994)</td>\n",
       "    </tr>\n",
       "    <tr>\n",
       "      <th>598</th>\n",
       "      <td>Mallrats (1995)</td>\n",
       "      <td>Blue in the Face (1995)</td>\n",
       "      <td>Turbulence (1997)</td>\n",
       "      <td>Seven Years in Tibet (1997)</td>\n",
       "      <td>Philadelphia Story, The (1940)</td>\n",
       "    </tr>\n",
       "    <tr>\n",
       "      <th>873</th>\n",
       "      <td>Madonna: Truth or Dare (1991)</td>\n",
       "      <td>Big Bang Theory, The (1994)</td>\n",
       "      <td>Late Bloomers (1996)</td>\n",
       "      <td>Nightwatch (1997)</td>\n",
       "      <td>Ulee's Gold (1997)</td>\n",
       "    </tr>\n",
       "  </tbody>\n",
       "</table>\n",
       "<p>943 rows × 5 columns</p>\n",
       "</div>"
      ],
      "text/plain": [
       "                                 0                                      1  \\\n",
       "196                 Amadeus (1984)                       Lone Star (1996)   \n",
       "63                 Two Much (1996)  Three Lives and Only One Death (1996)   \n",
       "226     Brothers in Trouble (1995)            What Happened Was... (1994)   \n",
       "154              Full Speed (1996)                        Mallrats (1995)   \n",
       "306                Heathers (1989)  Young Poisoner's Handbook, The (1995)   \n",
       "..                             ...                                    ...   \n",
       "799              Full Speed (1996)                My Favorite Year (1982)   \n",
       "358                Basquiat (1996)                      Kalifornia (1993)   \n",
       "410              Full Speed (1996)             Colonel Chabert, Le (1994)   \n",
       "598                Mallrats (1995)                Blue in the Face (1995)   \n",
       "873  Madonna: Truth or Dare (1991)            Big Bang Theory, The (1994)   \n",
       "\n",
       "                              2                               3  \\\n",
       "196                Crash (1996)                  Platoon (1986)   \n",
       "63   Colonel Chabert, Le (1994)  Telling Lies in America (1997)   \n",
       "226       Jupiter's Wife (1994)      Colonel Chabert, Le (1994)   \n",
       "154            Lone Star (1996)               Serial Mom (1994)   \n",
       "306          Spice World (1997)  Telling Lies in America (1997)   \n",
       "..                          ...                             ...   \n",
       "799       U.S. Marshalls (1998)                  Sleeper (1973)   \n",
       "358   Mark of Zorro, The (1940)       When We Were Kings (1996)   \n",
       "410            Senseless (1998)                 Heathers (1989)   \n",
       "598           Turbulence (1997)     Seven Years in Tibet (1997)   \n",
       "873        Late Bloomers (1996)               Nightwatch (1997)   \n",
       "\n",
       "                                  4  \n",
       "196            Hotel de Love (1996)  \n",
       "63                Young Guns (1988)  \n",
       "226                Senseless (1998)  \n",
       "154            Thin Man, The (1934)  \n",
       "306               Manny & Lo (1996)  \n",
       "..                              ...  \n",
       "799      Colonel Chabert, Le (1994)  \n",
       "358        Super Mario Bros. (1993)  \n",
       "410     What Happened Was... (1994)  \n",
       "598  Philadelphia Story, The (1940)  \n",
       "873              Ulee's Gold (1997)  \n",
       "\n",
       "[943 rows x 5 columns]"
      ]
     },
     "execution_count": 240,
     "metadata": {},
     "output_type": "execute_result"
    }
   ],
   "source": [
    "all_rec_df_title"
   ]
  },
  {
   "cell_type": "code",
   "execution_count": null,
   "id": "c0946623",
   "metadata": {},
   "outputs": [],
   "source": []
  }
 ],
 "metadata": {
  "kernelspec": {
   "display_name": "Python 3 (ipykernel)",
   "language": "python",
   "name": "python3"
  },
  "language_info": {
   "codemirror_mode": {
    "name": "ipython",
    "version": 3
   },
   "file_extension": ".py",
   "mimetype": "text/x-python",
   "name": "python",
   "nbconvert_exporter": "python",
   "pygments_lexer": "ipython3",
   "version": "3.9.12"
  }
 },
 "nbformat": 4,
 "nbformat_minor": 5
}
