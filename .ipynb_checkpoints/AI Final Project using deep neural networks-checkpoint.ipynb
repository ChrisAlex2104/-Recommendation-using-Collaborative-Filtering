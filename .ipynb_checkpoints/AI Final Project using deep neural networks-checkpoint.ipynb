{
 "cells": [
  {
   "cell_type": "markdown",
   "id": "ba58b19c",
   "metadata": {},
   "source": [
    "# Artificial Intelligence project\n",
    "#### By Chris Alexander and Viveka Salinamakki"
   ]
  },
  {
   "cell_type": "code",
   "execution_count": 1,
   "id": "044fc8d5",
   "metadata": {},
   "outputs": [],
   "source": [
    "from pydataset import data\n",
    "import torch as pyTorch\n",
    "\n",
    "import pandas as pd"
   ]
  },
  {
   "cell_type": "code",
   "execution_count": 2,
   "id": "17daeaf5",
   "metadata": {},
   "outputs": [
    {
     "data": {
      "text/html": [
       "<div>\n",
       "<style scoped>\n",
       "    .dataframe tbody tr th:only-of-type {\n",
       "        vertical-align: middle;\n",
       "    }\n",
       "\n",
       "    .dataframe tbody tr th {\n",
       "        vertical-align: top;\n",
       "    }\n",
       "\n",
       "    .dataframe thead th {\n",
       "        text-align: right;\n",
       "    }\n",
       "</style>\n",
       "<table border=\"1\" class=\"dataframe\">\n",
       "  <thead>\n",
       "    <tr style=\"text-align: right;\">\n",
       "      <th></th>\n",
       "      <th>dataset_id</th>\n",
       "      <th>title</th>\n",
       "    </tr>\n",
       "  </thead>\n",
       "  <tbody>\n",
       "    <tr>\n",
       "      <th>1</th>\n",
       "      <td>BJsales</td>\n",
       "      <td>Sales Data with Leading Indicator</td>\n",
       "    </tr>\n",
       "    <tr>\n",
       "      <th>2</th>\n",
       "      <td>BOD</td>\n",
       "      <td>Biochemical Oxygen Demand</td>\n",
       "    </tr>\n",
       "    <tr>\n",
       "      <th>3</th>\n",
       "      <td>Formaldehyde</td>\n",
       "      <td>Determination of Formaldehyde</td>\n",
       "    </tr>\n",
       "    <tr>\n",
       "      <th>4</th>\n",
       "      <td>HairEyeColor</td>\n",
       "      <td>Hair and Eye Color of Statistics Students</td>\n",
       "    </tr>\n",
       "    <tr>\n",
       "      <th>5</th>\n",
       "      <td>InsectSprays</td>\n",
       "      <td>Effectiveness of Insect Sprays</td>\n",
       "    </tr>\n",
       "    <tr>\n",
       "      <th>6</th>\n",
       "      <td>JohnsonJohnson</td>\n",
       "      <td>Quarterly Earnings per Johnson &amp; Johnson Share</td>\n",
       "    </tr>\n",
       "    <tr>\n",
       "      <th>7</th>\n",
       "      <td>LakeHuron</td>\n",
       "      <td>Level of Lake Huron 1875-1972</td>\n",
       "    </tr>\n",
       "    <tr>\n",
       "      <th>8</th>\n",
       "      <td>LifeCycleSavings</td>\n",
       "      <td>Intercountry Life-Cycle Savings Data</td>\n",
       "    </tr>\n",
       "    <tr>\n",
       "      <th>9</th>\n",
       "      <td>Nile</td>\n",
       "      <td>Flow of the River Nile</td>\n",
       "    </tr>\n",
       "  </tbody>\n",
       "</table>\n",
       "</div>"
      ],
      "text/plain": [
       "         dataset_id                                           title\n",
       "1           BJsales               Sales Data with Leading Indicator\n",
       "2               BOD                       Biochemical Oxygen Demand\n",
       "3      Formaldehyde                   Determination of Formaldehyde\n",
       "4      HairEyeColor       Hair and Eye Color of Statistics Students\n",
       "5      InsectSprays                  Effectiveness of Insect Sprays\n",
       "6    JohnsonJohnson  Quarterly Earnings per Johnson & Johnson Share\n",
       "7         LakeHuron                   Level of Lake Huron 1875-1972\n",
       "8  LifeCycleSavings            Intercountry Life-Cycle Savings Data\n",
       "9              Nile                          Flow of the River Nile"
      ]
     },
     "execution_count": 2,
     "metadata": {},
     "output_type": "execute_result"
    }
   ],
   "source": [
    "data()[1:10]"
   ]
  },
  {
   "cell_type": "code",
   "execution_count": 3,
   "id": "b2cd2785",
   "metadata": {},
   "outputs": [],
   "source": [
    "def getEmbeddings(sizeEmbeddingDict, embeddingVectorSize):\n",
    "    \n",
    "    # Intializing the Embedding class with the size of the embedding \n",
    "    # dictionary and the size of each embedding vector\n",
    "    embedding = nn.Embedding(sizeEmbeddingDict, embeddingVectorSize)\n",
    "    \n",
    "    # This initializes the weights of the embedding matrix with small \n",
    "    # random values drawn from a uniform distribution between -0.01 and \n",
    "    # 0.01, which is a common practice in deep learning to provide some \n",
    "    # initial variability to the embeddings and allow them to be \n",
    "    # learned during training.\n",
    "    embedding.weight.data.uniform_(-0.01,0.01)\n",
    "\n",
    "    return e"
   ]
  },
  {
   "cell_type": "code",
   "execution_count": 6,
   "id": "1d5300d1",
   "metadata": {},
   "outputs": [],
   "source": [
    "class RecommendationDataset(pyTorch.nn.Module):\n",
    "\n",
    "    def __init__(self, noUsers, noMovies, hLayerCount, dropoutProb1,\n",
    "                 dropoutProb2):\n",
    "        \"\"\"\n",
    "        Arguments:\n",
    "            noUsers (int): Number of unique users.\n",
    "            noMovies (int): Number of unique movies.\n",
    "            hLayerCount (int): Number of hidden layers\n",
    "            dropoutProb1 (float): Dropout probability 1\n",
    "            dropoutProb2 (float): Dropout probability 2\n",
    "        \"\"\"\n",
    "        super.__init__()\n",
    "        \n",
    "        self.lin1 = pyTorch.nn.Linear(n_factors*2, hLayerCount)  # bias is True by default\n",
    "        self.lin2 = pyTorch.nn.Linear(hLayerCount, 1)\n",
    "        self.drop1 = pyTorch.nn.Dropout(p = dropoutProb1)\n",
    "        self.drop2 = pyTorch.nn.Dropout(p = dropoutProb2)"
   ]
  },
  {
   "cell_type": "code",
   "execution_count": null,
   "id": "485d5484",
   "metadata": {},
   "outputs": [],
   "source": []
  }
 ],
 "metadata": {
  "kernelspec": {
   "display_name": "Python 3 (ipykernel)",
   "language": "python",
   "name": "python3"
  },
  "language_info": {
   "codemirror_mode": {
    "name": "ipython",
    "version": 3
   },
   "file_extension": ".py",
   "mimetype": "text/x-python",
   "name": "python",
   "nbconvert_exporter": "python",
   "pygments_lexer": "ipython3",
   "version": "3.9.13"
  }
 },
 "nbformat": 4,
 "nbformat_minor": 5
}
