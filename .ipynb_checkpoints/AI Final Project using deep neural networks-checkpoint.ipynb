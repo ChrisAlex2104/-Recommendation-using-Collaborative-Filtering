{
 "cells": [
  {
   "cell_type": "markdown",
   "id": "ba58b19c",
   "metadata": {},
   "source": [
    "# Artificial Intelligence project\n",
    "#### By Chris Alexander and Viveka Salinamakki"
   ]
  },
  {
   "cell_type": "code",
   "execution_count": 1,
   "id": "044fc8d5",
   "metadata": {},
   "outputs": [
    {
     "name": "stderr",
     "output_type": "stream",
     "text": [
      "C:\\Users\\vivek\\anaconda3\\lib\\site-packages\\numpy\\_distributor_init.py:30: UserWarning: loaded more than 1 DLL from .libs:\n",
      "C:\\Users\\vivek\\anaconda3\\lib\\site-packages\\numpy\\.libs\\libopenblas.FB5AE2TYXYH2IJRDKGDGQ3XBKLKTF43H.gfortran-win_amd64.dll\n",
      "C:\\Users\\vivek\\anaconda3\\lib\\site-packages\\numpy\\.libs\\libopenblas.XWYDX2IKJW2NMTWSFYNGFUWKQU3LYTCZ.gfortran-win_amd64.dll\n",
      "  warnings.warn(\"loaded more than 1 DLL from .libs:\"\n"
     ]
    }
   ],
   "source": [
    "from pydataset import data\n",
    "import torch as pyTorch\n",
    "import numpy as np\n",
    "import pandas as pd\n",
    "\n",
    "from fastai.collab import CollabDataLoaders"
   ]
  },
  {
   "cell_type": "code",
   "execution_count": 2,
   "id": "54dd9699",
   "metadata": {},
   "outputs": [
    {
     "data": {
      "text/html": [
       "<div>\n",
       "<style scoped>\n",
       "    .dataframe tbody tr th:only-of-type {\n",
       "        vertical-align: middle;\n",
       "    }\n",
       "\n",
       "    .dataframe tbody tr th {\n",
       "        vertical-align: top;\n",
       "    }\n",
       "\n",
       "    .dataframe thead th {\n",
       "        text-align: right;\n",
       "    }\n",
       "</style>\n",
       "<table border=\"1\" class=\"dataframe\">\n",
       "  <thead>\n",
       "    <tr style=\"text-align: right;\">\n",
       "      <th></th>\n",
       "      <th>user</th>\n",
       "      <th>movie</th>\n",
       "      <th>rating</th>\n",
       "    </tr>\n",
       "  </thead>\n",
       "  <tbody>\n",
       "    <tr>\n",
       "      <th>0</th>\n",
       "      <td>196</td>\n",
       "      <td>242</td>\n",
       "      <td>3</td>\n",
       "    </tr>\n",
       "    <tr>\n",
       "      <th>1</th>\n",
       "      <td>186</td>\n",
       "      <td>302</td>\n",
       "      <td>3</td>\n",
       "    </tr>\n",
       "    <tr>\n",
       "      <th>2</th>\n",
       "      <td>22</td>\n",
       "      <td>377</td>\n",
       "      <td>1</td>\n",
       "    </tr>\n",
       "    <tr>\n",
       "      <th>3</th>\n",
       "      <td>244</td>\n",
       "      <td>51</td>\n",
       "      <td>2</td>\n",
       "    </tr>\n",
       "    <tr>\n",
       "      <th>4</th>\n",
       "      <td>166</td>\n",
       "      <td>346</td>\n",
       "      <td>1</td>\n",
       "    </tr>\n",
       "  </tbody>\n",
       "</table>\n",
       "</div>"
      ],
      "text/plain": [
       "   user  movie  rating\n",
       "0   196    242       3\n",
       "1   186    302       3\n",
       "2    22    377       1\n",
       "3   244     51       2\n",
       "4   166    346       1"
      ]
     },
     "execution_count": 2,
     "metadata": {},
     "output_type": "execute_result"
    }
   ],
   "source": [
    "#loading the dataset\n",
    "ratings = pd.read_csv('u.data', delimiter='\\t', header=None,\n",
    "                      usecols=(0,1,2), names=['user','movie','rating'])\n",
    "ratings.head()"
   ]
  },
  {
   "cell_type": "code",
   "execution_count": 3,
   "id": "3be21f79",
   "metadata": {},
   "outputs": [
    {
     "data": {
      "text/html": [
       "<div>\n",
       "<style scoped>\n",
       "    .dataframe tbody tr th:only-of-type {\n",
       "        vertical-align: middle;\n",
       "    }\n",
       "\n",
       "    .dataframe tbody tr th {\n",
       "        vertical-align: top;\n",
       "    }\n",
       "\n",
       "    .dataframe thead th {\n",
       "        text-align: right;\n",
       "    }\n",
       "</style>\n",
       "<table border=\"1\" class=\"dataframe\">\n",
       "  <thead>\n",
       "    <tr style=\"text-align: right;\">\n",
       "      <th></th>\n",
       "      <th>movie</th>\n",
       "      <th>title</th>\n",
       "    </tr>\n",
       "  </thead>\n",
       "  <tbody>\n",
       "    <tr>\n",
       "      <th>0</th>\n",
       "      <td>1</td>\n",
       "      <td>Toy Story (1995)</td>\n",
       "    </tr>\n",
       "    <tr>\n",
       "      <th>1</th>\n",
       "      <td>2</td>\n",
       "      <td>GoldenEye (1995)</td>\n",
       "    </tr>\n",
       "    <tr>\n",
       "      <th>2</th>\n",
       "      <td>3</td>\n",
       "      <td>Four Rooms (1995)</td>\n",
       "    </tr>\n",
       "    <tr>\n",
       "      <th>3</th>\n",
       "      <td>4</td>\n",
       "      <td>Get Shorty (1995)</td>\n",
       "    </tr>\n",
       "    <tr>\n",
       "      <th>4</th>\n",
       "      <td>5</td>\n",
       "      <td>Copycat (1995)</td>\n",
       "    </tr>\n",
       "  </tbody>\n",
       "</table>\n",
       "</div>"
      ],
      "text/plain": [
       "   movie              title\n",
       "0      1   Toy Story (1995)\n",
       "1      2   GoldenEye (1995)\n",
       "2      3  Four Rooms (1995)\n",
       "3      4  Get Shorty (1995)\n",
       "4      5     Copycat (1995)"
      ]
     },
     "execution_count": 3,
     "metadata": {},
     "output_type": "execute_result"
    }
   ],
   "source": [
    "movies = pd.read_csv('u.item',  delimiter='|', encoding='latin-1',\n",
    "                     usecols=(0,1), names=('movie','title'), header=None)\n",
    "movies.head()"
   ]
  },
  {
   "cell_type": "code",
   "execution_count": 4,
   "id": "8fa7aa2e",
   "metadata": {},
   "outputs": [
    {
     "data": {
      "text/html": [
       "<div>\n",
       "<style scoped>\n",
       "    .dataframe tbody tr th:only-of-type {\n",
       "        vertical-align: middle;\n",
       "    }\n",
       "\n",
       "    .dataframe tbody tr th {\n",
       "        vertical-align: top;\n",
       "    }\n",
       "\n",
       "    .dataframe thead th {\n",
       "        text-align: right;\n",
       "    }\n",
       "</style>\n",
       "<table border=\"1\" class=\"dataframe\">\n",
       "  <thead>\n",
       "    <tr style=\"text-align: right;\">\n",
       "      <th></th>\n",
       "      <th>user</th>\n",
       "      <th>movie</th>\n",
       "      <th>rating</th>\n",
       "      <th>title</th>\n",
       "    </tr>\n",
       "  </thead>\n",
       "  <tbody>\n",
       "    <tr>\n",
       "      <th>0</th>\n",
       "      <td>196</td>\n",
       "      <td>242</td>\n",
       "      <td>3</td>\n",
       "      <td>Kolya (1996)</td>\n",
       "    </tr>\n",
       "    <tr>\n",
       "      <th>1</th>\n",
       "      <td>63</td>\n",
       "      <td>242</td>\n",
       "      <td>3</td>\n",
       "      <td>Kolya (1996)</td>\n",
       "    </tr>\n",
       "    <tr>\n",
       "      <th>2</th>\n",
       "      <td>226</td>\n",
       "      <td>242</td>\n",
       "      <td>5</td>\n",
       "      <td>Kolya (1996)</td>\n",
       "    </tr>\n",
       "    <tr>\n",
       "      <th>3</th>\n",
       "      <td>154</td>\n",
       "      <td>242</td>\n",
       "      <td>3</td>\n",
       "      <td>Kolya (1996)</td>\n",
       "    </tr>\n",
       "    <tr>\n",
       "      <th>4</th>\n",
       "      <td>306</td>\n",
       "      <td>242</td>\n",
       "      <td>5</td>\n",
       "      <td>Kolya (1996)</td>\n",
       "    </tr>\n",
       "  </tbody>\n",
       "</table>\n",
       "</div>"
      ],
      "text/plain": [
       "   user  movie  rating         title\n",
       "0   196    242       3  Kolya (1996)\n",
       "1    63    242       3  Kolya (1996)\n",
       "2   226    242       5  Kolya (1996)\n",
       "3   154    242       3  Kolya (1996)\n",
       "4   306    242       5  Kolya (1996)"
      ]
     },
     "execution_count": 4,
     "metadata": {},
     "output_type": "execute_result"
    }
   ],
   "source": [
    "ratings = ratings.merge(movies)\n",
    "ratings.head()"
   ]
  },
  {
   "cell_type": "code",
   "execution_count": 5,
   "id": "753f1934",
   "metadata": {},
   "outputs": [],
   "source": [
    "noUniqueUsers = len(ratings['user'].unique())\n",
    "noUniqueMovies = len(ratings['movie'].unique())"
   ]
  },
  {
   "cell_type": "code",
   "execution_count": 6,
   "id": "6d7218a6",
   "metadata": {},
   "outputs": [],
   "source": [
    "dls = CollabDataLoaders.from_df(ratings, item_name='title', bs=64)"
   ]
  },
  {
   "cell_type": "code",
   "execution_count": 7,
   "id": "7bd8939f",
   "metadata": {},
   "outputs": [
    {
     "data": {
      "text/html": [
       "<table border=\"1\" class=\"dataframe\">\n",
       "  <thead>\n",
       "    <tr style=\"text-align: right;\">\n",
       "      <th></th>\n",
       "      <th>user</th>\n",
       "      <th>title</th>\n",
       "      <th>rating</th>\n",
       "    </tr>\n",
       "  </thead>\n",
       "  <tbody>\n",
       "    <tr>\n",
       "      <th>0</th>\n",
       "      <td>237</td>\n",
       "      <td>M (1931)</td>\n",
       "      <td>4</td>\n",
       "    </tr>\n",
       "    <tr>\n",
       "      <th>1</th>\n",
       "      <td>59</td>\n",
       "      <td>Immortal Beloved (1994)</td>\n",
       "      <td>2</td>\n",
       "    </tr>\n",
       "    <tr>\n",
       "      <th>2</th>\n",
       "      <td>239</td>\n",
       "      <td>Lone Star (1996)</td>\n",
       "      <td>5</td>\n",
       "    </tr>\n",
       "    <tr>\n",
       "      <th>3</th>\n",
       "      <td>896</td>\n",
       "      <td>Bob Roberts (1992)</td>\n",
       "      <td>2</td>\n",
       "    </tr>\n",
       "    <tr>\n",
       "      <th>4</th>\n",
       "      <td>549</td>\n",
       "      <td>Willy Wonka and the Chocolate Factory (1971)</td>\n",
       "      <td>3</td>\n",
       "    </tr>\n",
       "    <tr>\n",
       "      <th>5</th>\n",
       "      <td>895</td>\n",
       "      <td>Star Wars (1977)</td>\n",
       "      <td>5</td>\n",
       "    </tr>\n",
       "    <tr>\n",
       "      <th>6</th>\n",
       "      <td>481</td>\n",
       "      <td>Streetcar Named Desire, A (1951)</td>\n",
       "      <td>4</td>\n",
       "    </tr>\n",
       "    <tr>\n",
       "      <th>7</th>\n",
       "      <td>169</td>\n",
       "      <td>Casablanca (1942)</td>\n",
       "      <td>3</td>\n",
       "    </tr>\n",
       "    <tr>\n",
       "      <th>8</th>\n",
       "      <td>314</td>\n",
       "      <td>Eraser (1996)</td>\n",
       "      <td>4</td>\n",
       "    </tr>\n",
       "    <tr>\n",
       "      <th>9</th>\n",
       "      <td>896</td>\n",
       "      <td>Lawrence of Arabia (1962)</td>\n",
       "      <td>5</td>\n",
       "    </tr>\n",
       "  </tbody>\n",
       "</table>"
      ],
      "text/plain": [
       "<IPython.core.display.HTML object>"
      ]
     },
     "metadata": {},
     "output_type": "display_data"
    }
   ],
   "source": [
    "dls.show_batch()"
   ]
  },
  {
   "cell_type": "code",
   "execution_count": 8,
   "id": "17daeaf5",
   "metadata": {},
   "outputs": [],
   "source": [
    "n_factors = 50 # n_factors i.e. 1 dimension of embeddings (random)"
   ]
  },
  {
   "cell_type": "code",
   "execution_count": 9,
   "id": "149f565f",
   "metadata": {},
   "outputs": [],
   "source": [
    "min_rating,max_rating = ratings.rating.min(),ratings.rating.max()"
   ]
  },
  {
   "cell_type": "code",
   "execution_count": 10,
   "id": "b2cd2785",
   "metadata": {},
   "outputs": [],
   "source": [
    "def getEmbeddings(sizeEmbeddingDict, embeddingVectorSize):\n",
    "    \n",
    "    # Intializing the Embedding class with the size of the embedding \n",
    "    # dictionary and the size of each embedding vector\n",
    "    embedding = pyTorch.nn.Embedding(sizeEmbeddingDict, embeddingVectorSize)\n",
    "    \n",
    "    # This initializes the weights of the embedding matrix with small \n",
    "    # random values drawn from a uniform distribution between -0.01 and \n",
    "    # 0.01, which is a common practice in deep learning to provide some \n",
    "    # initial variability to the embeddings and allow them to be \n",
    "    # learned during training.\n",
    "    embedding.weight.data.uniform_(-0.01,0.01)\n",
    "\n",
    "    return embedding"
   ]
  },
  {
   "cell_type": "code",
   "execution_count": 70,
   "id": "1d5300d1",
   "metadata": {},
   "outputs": [],
   "source": [
    "class RecommendationDataset(pyTorch.nn.Module):\n",
    "\n",
    "    def __init__(self, noUsers, noMovies, hLayerCount=2, dropoutProb1=0.2,\n",
    "                 dropoutProb2=0.2):\n",
    "        \"\"\"\n",
    "        Arguments:\n",
    "            noUsers (int): Number of unique users.\n",
    "            noMovies (int): Number of unique movies.\n",
    "            hLayerCount (int): Number of hidden layers\n",
    "            dropoutProb1 (float): Dropout probability 1\n",
    "            dropoutProb2 (float): Dropout probability 2\n",
    "        \"\"\"\n",
    "        super().__init__()\n",
    "        (self.u, self.m, self.ub, self.mb) = [getEmbeddings(*o) for o in [\n",
    "            (noUsers, n_factors), (noMovies, n_factors),\n",
    "            (noUsers,1), (noMovies,1)\n",
    "        ]]\n",
    "        \n",
    "        self.lin1 = pyTorch.nn.Linear(n_factors, hLayerCount)  # bias is True by default\n",
    "        self.lin2 = pyTorch.nn.Linear(hLayerCount, 1)\n",
    "        self.drop1 = pyTorch.nn.Dropout(p = dropoutProb1)\n",
    "        self.drop2 = pyTorch.nn.Dropout(p = dropoutProb2)\n",
    "    \n",
    "    def forward(self, catDataUsers, catDataMovies, contDataUsers=0, contDataMovies=0): # forward pass i.e.  dot product of vector from movie embedding matrixx\n",
    "                                    # and vector from user embeddings matrix\n",
    "        \n",
    "        # torch.cat : concatenates both embedding matrix to make more columns, same rows i.e. n_factors*2, n : rows\n",
    "        # u(users) is doing lookup for indexed mentioned in users\n",
    "        # users has indexes to lookup in embedding matrix. \n",
    "        \n",
    "        u2, m2 = self.u(catDataUsers) , self.m(catDataMovies)\n",
    "        concatVector = pyTorch.cat([u2,m2])\n",
    "#         print(len(u2), len(m2), len(concatVector))\n",
    "        concatVector = self.drop1(concatVector) # drop initialized weights\n",
    "#         print(len(concatVector))\n",
    "        layer1Out = self.lin1(concatVector)\n",
    "        layer1Out = self.drop2(pyTorch.relu(layer1Out)) # drop 1st linear + nonlinear wt\n",
    "        layer2Out = pyTorch.sigmoid(self.lin2(layer1Out)) * (max_rating - min_rating) + min_rating               \n",
    "        return layer2Out"
   ]
  },
  {
   "cell_type": "code",
   "execution_count": 71,
   "id": "c9717a40",
   "metadata": {},
   "outputs": [],
   "source": [
    "# wd=1e-5\n",
    "# embeddingsModel = getEmbeddings(noUsers, noMovies)\n",
    "# embeddingsModel = embeddingsModel.cuda()\n",
    "# opt = pyTorch.optim.Adam(embeddingsModel.parameters(), 1e-3, weight_decay=wd) # got parameter() for free , lr = 1e-3\n",
    "# predModel = RecommendationDataset(opt)"
   ]
  },
  {
   "cell_type": "code",
   "execution_count": 72,
   "id": "485d5484",
   "metadata": {},
   "outputs": [],
   "source": [
    "model = RecommendationDataset(noUniqueUsers, noUniqueMovies, hLayerCount=2, dropoutProb1=0.2,\n",
    "                 dropoutProb2=0.2)\n",
    "\n",
    "# load pre-trained model weights (if any)\n",
    "# model.load_state_dict(torch.load('model_weights.pth'))\n",
    "\n",
    "# prepare input data\n",
    "catDataUsers = pyTorch.tensor([5,2])\n",
    "catDataMovies = pyTorch.tensor([10,1])\n",
    "contDataUsers = pyTorch.tensor([0.6])\n",
    "contDataMovies = pyTorch.tensor([0.8])"
   ]
  },
  {
   "cell_type": "code",
   "execution_count": 124,
   "id": "bb840c7e",
   "metadata": {},
   "outputs": [
    {
     "name": "stdout",
     "output_type": "stream",
     "text": [
      "tensor([[2.9435],\n",
      "        [2.9427],\n",
      "        [2.9431],\n",
      "        [2.9435]], grad_fn=<AddBackward0>)\n"
     ]
    }
   ],
   "source": [
    "# make a prediction\n",
    "prediction = model(catDataUsers, catDataMovies, contDataUsers, contDataMovies)\n",
    "print(prediction)"
   ]
  },
  {
   "cell_type": "code",
   "execution_count": 15,
   "id": "c8c3d6c7",
   "metadata": {},
   "outputs": [],
   "source": [
    "# embeddingsModel.forward(catDataUsers=noUniqueUsers, catDataMovies=noUniqueMovies)"
   ]
  },
  {
   "cell_type": "code",
   "execution_count": null,
   "id": "edb90760",
   "metadata": {},
   "outputs": [],
   "source": []
  },
  {
   "cell_type": "code",
   "execution_count": null,
   "id": "cd4ad0c3",
   "metadata": {},
   "outputs": [],
   "source": []
  }
 ],
 "metadata": {
  "kernelspec": {
   "display_name": "Python 3 (ipykernel)",
   "language": "python",
   "name": "python3"
  },
  "language_info": {
   "codemirror_mode": {
    "name": "ipython",
    "version": 3
   },
   "file_extension": ".py",
   "mimetype": "text/x-python",
   "name": "python",
   "nbconvert_exporter": "python",
   "pygments_lexer": "ipython3",
   "version": "3.9.13"
  }
 },
 "nbformat": 4,
 "nbformat_minor": 5
}
