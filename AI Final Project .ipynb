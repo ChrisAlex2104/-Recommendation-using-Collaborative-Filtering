{
 "cells": [
  {
   "cell_type": "markdown",
   "id": "64151aad",
   "metadata": {},
   "source": [
    "# Artificial Intelligence project\n",
    "#### By Chris Alexander and Viveka Salinamakki"
   ]
  },
  {
   "cell_type": "code",
   "execution_count": 9,
   "id": "1d5300d1",
   "metadata": {},
   "outputs": [],
   "source": [
    "from pydataset import data\n",
    "import torch as pyTorch\n",
    "\n",
    "import pandas as pd"
   ]
  },
  {
   "cell_type": "code",
   "execution_count": 10,
   "id": "aa012e42",
   "metadata": {},
   "outputs": [],
   "source": [
    "pd.set_option('display.max_columns', None)"
   ]
  },
  {
   "cell_type": "code",
   "execution_count": 11,
   "id": "4e74b397",
   "metadata": {},
   "outputs": [
    {
     "name": "stdout",
     "output_type": "stream",
     "text": [
      "        dataset_id                                             title\n",
      "0    AirPassengers       Monthly Airline Passenger Numbers 1949-1960\n",
      "1          BJsales                 Sales Data with Leading Indicator\n",
      "2              BOD                         Biochemical Oxygen Demand\n",
      "3     Formaldehyde                     Determination of Formaldehyde\n",
      "4     HairEyeColor         Hair and Eye Color of Statistics Students\n",
      "..             ...                                               ...\n",
      "752        VerbAgg                  Verbal Aggression item responses\n",
      "753           cake                 Breakage Angle of Chocolate Cakes\n",
      "754           cbpp                 Contagious bovine pleuropneumonia\n",
      "755    grouseticks  Data on red grouse ticks from Elston et al. 2001\n",
      "756     sleepstudy       Reaction times in a sleep deprivation study\n",
      "\n",
      "[757 rows x 2 columns]\n"
     ]
    }
   ],
   "source": [
    "print(data())"
   ]
  },
  {
   "cell_type": "code",
   "execution_count": 14,
   "id": "7721eb9d",
   "metadata": {},
   "outputs": [],
   "source": [
    "# hLayerCount = Dimension of hidden linear layer\n",
    "# pDropout1 = Probability for dropout 1 i.e., adding zeroes to the dataset to avoid overfitting on small datasets\n",
    "# pDropout2 = Probability for dropout 2"
   ]
  },
  {
   "cell_type": "code",
   "execution_count": 12,
   "id": "e53544d3",
   "metadata": {},
   "outputs": [],
   "source": [
    "class RecommendationDataset(pyTorch.nn.Model):\n",
    "\n",
    "    def __init__(self, noUsers, noMovies, hLayerCount, ):\n",
    "        \"\"\"\n",
    "        Arguments:\n",
    "            noUsers (int): Number of unique users.\n",
    "            noMovies (int): Number of unique movies.\n",
    "            transform (callable, optional): Optional transform to be applied\n",
    "                on a sample.\n",
    "        \"\"\"\n",
    "        super.__init__()\n",
    "        \n",
    "        self.landmarks_frame = pd.read_csv(csv_file)\n",
    "        self.root_dir = root_dir\n",
    "        self.transform = transform"
   ]
  },
  {
   "cell_type": "code",
   "execution_count": null,
   "id": "72e442ca",
   "metadata": {},
   "outputs": [],
   "source": []
  }
 ],
 "metadata": {
  "kernelspec": {
   "display_name": "Python 3 (ipykernel)",
   "language": "python",
   "name": "python3"
  },
  "language_info": {
   "codemirror_mode": {
    "name": "ipython",
    "version": 3
   },
   "file_extension": ".py",
   "mimetype": "text/x-python",
   "name": "python",
   "nbconvert_exporter": "python",
   "pygments_lexer": "ipython3",
   "version": "3.9.13"
  }
 },
 "nbformat": 4,
 "nbformat_minor": 5
}
