{
 "cells": [
  {
   "cell_type": "markdown",
   "id": "ba58b19c",
   "metadata": {},
   "source": [
    "# Artificial Intelligence project\n",
    "#### By Chris Alexander and Viveka Salinamakki"
   ]
  },
  {
   "cell_type": "code",
   "execution_count": 1,
   "id": "044fc8d5",
   "metadata": {},
   "outputs": [
    {
     "name": "stderr",
     "output_type": "stream",
     "text": [
      "C:\\Users\\vivek\\anaconda3\\lib\\site-packages\\numpy\\_distributor_init.py:30: UserWarning: loaded more than 1 DLL from .libs:\n",
      "C:\\Users\\vivek\\anaconda3\\lib\\site-packages\\numpy\\.libs\\libopenblas.FB5AE2TYXYH2IJRDKGDGQ3XBKLKTF43H.gfortran-win_amd64.dll\n",
      "C:\\Users\\vivek\\anaconda3\\lib\\site-packages\\numpy\\.libs\\libopenblas.XWYDX2IKJW2NMTWSFYNGFUWKQU3LYTCZ.gfortran-win_amd64.dll\n",
      "  warnings.warn(\"loaded more than 1 DLL from .libs:\"\n"
     ]
    }
   ],
   "source": [
    "from pydataset import data\n",
    "import torch as pyTorch\n",
    "import numpy as np\n",
    "import pandas as pd\n",
    "\n",
    "from fastai.collab import CollabDataLoaders"
   ]
  },
  {
   "cell_type": "code",
   "execution_count": 2,
   "id": "54dd9699",
   "metadata": {},
   "outputs": [
    {
     "data": {
      "text/html": [
       "<div>\n",
       "<style scoped>\n",
       "    .dataframe tbody tr th:only-of-type {\n",
       "        vertical-align: middle;\n",
       "    }\n",
       "\n",
       "    .dataframe tbody tr th {\n",
       "        vertical-align: top;\n",
       "    }\n",
       "\n",
       "    .dataframe thead th {\n",
       "        text-align: right;\n",
       "    }\n",
       "</style>\n",
       "<table border=\"1\" class=\"dataframe\">\n",
       "  <thead>\n",
       "    <tr style=\"text-align: right;\">\n",
       "      <th></th>\n",
       "      <th>user</th>\n",
       "      <th>movie</th>\n",
       "      <th>rating</th>\n",
       "    </tr>\n",
       "  </thead>\n",
       "  <tbody>\n",
       "    <tr>\n",
       "      <th>0</th>\n",
       "      <td>196</td>\n",
       "      <td>242</td>\n",
       "      <td>3</td>\n",
       "    </tr>\n",
       "    <tr>\n",
       "      <th>1</th>\n",
       "      <td>186</td>\n",
       "      <td>302</td>\n",
       "      <td>3</td>\n",
       "    </tr>\n",
       "    <tr>\n",
       "      <th>2</th>\n",
       "      <td>22</td>\n",
       "      <td>377</td>\n",
       "      <td>1</td>\n",
       "    </tr>\n",
       "    <tr>\n",
       "      <th>3</th>\n",
       "      <td>244</td>\n",
       "      <td>51</td>\n",
       "      <td>2</td>\n",
       "    </tr>\n",
       "    <tr>\n",
       "      <th>4</th>\n",
       "      <td>166</td>\n",
       "      <td>346</td>\n",
       "      <td>1</td>\n",
       "    </tr>\n",
       "  </tbody>\n",
       "</table>\n",
       "</div>"
      ],
      "text/plain": [
       "   user  movie  rating\n",
       "0   196    242       3\n",
       "1   186    302       3\n",
       "2    22    377       1\n",
       "3   244     51       2\n",
       "4   166    346       1"
      ]
     },
     "execution_count": 2,
     "metadata": {},
     "output_type": "execute_result"
    }
   ],
   "source": [
    "#loading the dataset\n",
    "ratings = pd.read_csv('u.data', delimiter='\\t', header=None,\n",
    "                      usecols=(0,1,2), names=['user','movie','rating'])\n",
    "ratings.head()"
   ]
  },
  {
   "cell_type": "code",
   "execution_count": 3,
   "id": "3be21f79",
   "metadata": {},
   "outputs": [
    {
     "data": {
      "text/html": [
       "<div>\n",
       "<style scoped>\n",
       "    .dataframe tbody tr th:only-of-type {\n",
       "        vertical-align: middle;\n",
       "    }\n",
       "\n",
       "    .dataframe tbody tr th {\n",
       "        vertical-align: top;\n",
       "    }\n",
       "\n",
       "    .dataframe thead th {\n",
       "        text-align: right;\n",
       "    }\n",
       "</style>\n",
       "<table border=\"1\" class=\"dataframe\">\n",
       "  <thead>\n",
       "    <tr style=\"text-align: right;\">\n",
       "      <th></th>\n",
       "      <th>movie</th>\n",
       "      <th>title</th>\n",
       "    </tr>\n",
       "  </thead>\n",
       "  <tbody>\n",
       "    <tr>\n",
       "      <th>0</th>\n",
       "      <td>1</td>\n",
       "      <td>Toy Story (1995)</td>\n",
       "    </tr>\n",
       "    <tr>\n",
       "      <th>1</th>\n",
       "      <td>2</td>\n",
       "      <td>GoldenEye (1995)</td>\n",
       "    </tr>\n",
       "    <tr>\n",
       "      <th>2</th>\n",
       "      <td>3</td>\n",
       "      <td>Four Rooms (1995)</td>\n",
       "    </tr>\n",
       "    <tr>\n",
       "      <th>3</th>\n",
       "      <td>4</td>\n",
       "      <td>Get Shorty (1995)</td>\n",
       "    </tr>\n",
       "    <tr>\n",
       "      <th>4</th>\n",
       "      <td>5</td>\n",
       "      <td>Copycat (1995)</td>\n",
       "    </tr>\n",
       "  </tbody>\n",
       "</table>\n",
       "</div>"
      ],
      "text/plain": [
       "   movie              title\n",
       "0      1   Toy Story (1995)\n",
       "1      2   GoldenEye (1995)\n",
       "2      3  Four Rooms (1995)\n",
       "3      4  Get Shorty (1995)\n",
       "4      5     Copycat (1995)"
      ]
     },
     "execution_count": 3,
     "metadata": {},
     "output_type": "execute_result"
    }
   ],
   "source": [
    "movies = pd.read_csv('u.item',  delimiter='|', encoding='latin-1',\n",
    "                     usecols=(0,1), names=('movie','title'), header=None)\n",
    "movies.head()"
   ]
  },
  {
   "cell_type": "code",
   "execution_count": 4,
   "id": "8fa7aa2e",
   "metadata": {},
   "outputs": [
    {
     "data": {
      "text/html": [
       "<div>\n",
       "<style scoped>\n",
       "    .dataframe tbody tr th:only-of-type {\n",
       "        vertical-align: middle;\n",
       "    }\n",
       "\n",
       "    .dataframe tbody tr th {\n",
       "        vertical-align: top;\n",
       "    }\n",
       "\n",
       "    .dataframe thead th {\n",
       "        text-align: right;\n",
       "    }\n",
       "</style>\n",
       "<table border=\"1\" class=\"dataframe\">\n",
       "  <thead>\n",
       "    <tr style=\"text-align: right;\">\n",
       "      <th></th>\n",
       "      <th>user</th>\n",
       "      <th>movie</th>\n",
       "      <th>rating</th>\n",
       "      <th>title</th>\n",
       "    </tr>\n",
       "  </thead>\n",
       "  <tbody>\n",
       "    <tr>\n",
       "      <th>0</th>\n",
       "      <td>196</td>\n",
       "      <td>242</td>\n",
       "      <td>3</td>\n",
       "      <td>Kolya (1996)</td>\n",
       "    </tr>\n",
       "    <tr>\n",
       "      <th>1</th>\n",
       "      <td>63</td>\n",
       "      <td>242</td>\n",
       "      <td>3</td>\n",
       "      <td>Kolya (1996)</td>\n",
       "    </tr>\n",
       "    <tr>\n",
       "      <th>2</th>\n",
       "      <td>226</td>\n",
       "      <td>242</td>\n",
       "      <td>5</td>\n",
       "      <td>Kolya (1996)</td>\n",
       "    </tr>\n",
       "    <tr>\n",
       "      <th>3</th>\n",
       "      <td>154</td>\n",
       "      <td>242</td>\n",
       "      <td>3</td>\n",
       "      <td>Kolya (1996)</td>\n",
       "    </tr>\n",
       "    <tr>\n",
       "      <th>4</th>\n",
       "      <td>306</td>\n",
       "      <td>242</td>\n",
       "      <td>5</td>\n",
       "      <td>Kolya (1996)</td>\n",
       "    </tr>\n",
       "  </tbody>\n",
       "</table>\n",
       "</div>"
      ],
      "text/plain": [
       "   user  movie  rating         title\n",
       "0   196    242       3  Kolya (1996)\n",
       "1    63    242       3  Kolya (1996)\n",
       "2   226    242       5  Kolya (1996)\n",
       "3   154    242       3  Kolya (1996)\n",
       "4   306    242       5  Kolya (1996)"
      ]
     },
     "execution_count": 4,
     "metadata": {},
     "output_type": "execute_result"
    }
   ],
   "source": [
    "ratings = ratings.merge(movies)\n",
    "ratings.head()"
   ]
  },
  {
   "cell_type": "code",
   "execution_count": 5,
   "id": "753f1934",
   "metadata": {},
   "outputs": [],
   "source": [
    "noUniqueUsers = len(ratings['user'].unique())\n",
    "noUniqueMovies = len(ratings['movie'].unique())"
   ]
  },
  {
   "cell_type": "code",
   "execution_count": 6,
   "id": "6d7218a6",
   "metadata": {},
   "outputs": [],
   "source": [
    "dls = CollabDataLoaders.from_df(ratings, item_name='title', bs=64)"
   ]
  },
  {
   "cell_type": "code",
   "execution_count": 84,
   "id": "7bd8939f",
   "metadata": {},
   "outputs": [
    {
     "data": {
      "text/html": [
       "<table border=\"1\" class=\"dataframe\">\n",
       "  <thead>\n",
       "    <tr style=\"text-align: right;\">\n",
       "      <th></th>\n",
       "      <th>user</th>\n",
       "      <th>title</th>\n",
       "      <th>rating</th>\n",
       "    </tr>\n",
       "  </thead>\n",
       "  <tbody>\n",
       "    <tr>\n",
       "      <th>0</th>\n",
       "      <td>868</td>\n",
       "      <td>Davy Crockett, King of the Wild Frontier (1955)</td>\n",
       "      <td>2</td>\n",
       "    </tr>\n",
       "    <tr>\n",
       "      <th>1</th>\n",
       "      <td>152</td>\n",
       "      <td>Jaws (1975)</td>\n",
       "      <td>4</td>\n",
       "    </tr>\n",
       "    <tr>\n",
       "      <th>2</th>\n",
       "      <td>312</td>\n",
       "      <td>Misérables, Les (1995)</td>\n",
       "      <td>5</td>\n",
       "    </tr>\n",
       "    <tr>\n",
       "      <th>3</th>\n",
       "      <td>222</td>\n",
       "      <td>Major Payne (1994)</td>\n",
       "      <td>2</td>\n",
       "    </tr>\n",
       "    <tr>\n",
       "      <th>4</th>\n",
       "      <td>498</td>\n",
       "      <td>Blues Brothers, The (1980)</td>\n",
       "      <td>4</td>\n",
       "    </tr>\n",
       "    <tr>\n",
       "      <th>5</th>\n",
       "      <td>710</td>\n",
       "      <td>Starship Troopers (1997)</td>\n",
       "      <td>3</td>\n",
       "    </tr>\n",
       "    <tr>\n",
       "      <th>6</th>\n",
       "      <td>92</td>\n",
       "      <td>Turbulence (1997)</td>\n",
       "      <td>2</td>\n",
       "    </tr>\n",
       "    <tr>\n",
       "      <th>7</th>\n",
       "      <td>224</td>\n",
       "      <td>Amadeus (1984)</td>\n",
       "      <td>4</td>\n",
       "    </tr>\n",
       "    <tr>\n",
       "      <th>8</th>\n",
       "      <td>360</td>\n",
       "      <td>Ulee's Gold (1997)</td>\n",
       "      <td>3</td>\n",
       "    </tr>\n",
       "    <tr>\n",
       "      <th>9</th>\n",
       "      <td>286</td>\n",
       "      <td>Parent Trap, The (1961)</td>\n",
       "      <td>3</td>\n",
       "    </tr>\n",
       "  </tbody>\n",
       "</table>"
      ],
      "text/plain": [
       "<IPython.core.display.HTML object>"
      ]
     },
     "metadata": {},
     "output_type": "display_data"
    },
    {
     "data": {
      "text/plain": [
       "(None,\n",
       "        user  movie  rating                                               title\n",
       " 0       196    242       3                                        Kolya (1996)\n",
       " 1        63    242       3                                        Kolya (1996)\n",
       " 2       226    242       5                                        Kolya (1996)\n",
       " 3       154    242       3                                        Kolya (1996)\n",
       " 4       306    242       5                                        Kolya (1996)\n",
       " ...     ...    ...     ...                                                 ...\n",
       " 99995   840   1674       4                                   Mamma Roma (1962)\n",
       " 99996   655   1640       3                              Eighth Day, The (1996)\n",
       " 99997   655   1637       3                                   Girls Town (1996)\n",
       " 99998   655   1630       3  Silence of the Palace, The (Saimt el Qusur) (1994)\n",
       " 99999   655   1641       3                                     Dadetown (1995)\n",
       " \n",
       " [100000 rows x 4 columns])"
      ]
     },
     "execution_count": 84,
     "metadata": {},
     "output_type": "execute_result"
    }
   ],
   "source": [
    "dls.show_batch(), ratings"
   ]
  },
  {
   "cell_type": "code",
   "execution_count": 8,
   "id": "17daeaf5",
   "metadata": {},
   "outputs": [],
   "source": [
    "n_factors = 50 # n_factors i.e. 1 dimension of embeddings (random)"
   ]
  },
  {
   "cell_type": "code",
   "execution_count": 9,
   "id": "149f565f",
   "metadata": {},
   "outputs": [],
   "source": [
    "min_rating,max_rating = ratings.rating.min(),ratings.rating.max()"
   ]
  },
  {
   "cell_type": "code",
   "execution_count": 10,
   "id": "b2cd2785",
   "metadata": {},
   "outputs": [],
   "source": [
    "def getEmbeddings(sizeEmbeddingDict, embeddingVectorSize):\n",
    "    \n",
    "    # Intializing the Embedding class with the size of the embedding \n",
    "    # dictionary and the size of each embedding vector\n",
    "    embedding = pyTorch.nn.Embedding(sizeEmbeddingDict, embeddingVectorSize)\n",
    "    \n",
    "    # This initializes the weights of the embedding matrix with small \n",
    "    # random values drawn from a uniform distribution between -0.01 and \n",
    "    # 0.01, which is a common practice in deep learning to provide some \n",
    "    # initial variability to the embeddings and allow them to be \n",
    "    # learned during training.\n",
    "    embedding.weight.data.uniform_(-0.01,0.01)\n",
    "\n",
    "    return embedding"
   ]
  },
  {
   "cell_type": "code",
   "execution_count": 91,
   "id": "1d5300d1",
   "metadata": {},
   "outputs": [],
   "source": [
    "class RecommendationDataset(pyTorch.nn.Module):\n",
    "\n",
    "    def __init__(self, noUsers, noMovies, hLayerCount=2, dropoutProb1=0.2,\n",
    "                 dropoutProb2=0.2):\n",
    "        \"\"\"\n",
    "        Arguments:\n",
    "            noUsers (int): Number of unique users.\n",
    "            noMovies (int): Number of unique movies.\n",
    "            hLayerCount (int): Number of hidden layers\n",
    "            dropoutProb1 (float): Dropout probability 1\n",
    "            dropoutProb2 (float): Dropout probability 2\n",
    "        \"\"\"\n",
    "        super().__init__()\n",
    "        (self.u, self.m, self.ub, self.mb) = [getEmbeddings(*o) for o in [\n",
    "            (noUsers, n_factors), (noMovies, n_factors),\n",
    "            (noUsers,1), (noMovies,1)\n",
    "        ]]\n",
    "        \n",
    "        self.lin1 = pyTorch.nn.Linear(n_factors, hLayerCount)  # bias is True by default\n",
    "        self.lin2 = pyTorch.nn.Linear(hLayerCount, 1)\n",
    "        self.drop1 = pyTorch.nn.Dropout(p = dropoutProb1)\n",
    "        self.drop2 = pyTorch.nn.Dropout(p = dropoutProb2)\n",
    "    \n",
    "    def forward(self, catDataUsers, catDataMovies, contDataUsers=0, contDataMovies=0): # forward pass i.e.  dot product of vector from movie embedding matrix\n",
    "                                    # and vector from user embeddings matrix\n",
    "        \n",
    "        # torch.cat : concatenates both embedding matrix to make more columns, same rows i.e. n_factors*2, n : rows\n",
    "        # u(users) is doing lookup for indexed mentioned in users\n",
    "        # users has indexes to lookup in embedding matrix. \n",
    "        \n",
    "        u2, m2 = self.u(catDataUsers) , self.m(catDataMovies)\n",
    "        concatVector = pyTorch.cat([u2,m2])\n",
    "#         print(len(u2), len(m2), len(concatVector))\n",
    "        concatVector = self.drop1(concatVector) # drop initialized weights\n",
    "#         print(len(concatVector))\n",
    "        layer1Out = self.lin1(concatVector)\n",
    "        layer1Out = self.drop2(pyTorch.relu(layer1Out)) # drop 1st linear + nonlinear wt\n",
    "        layer2Out = pyTorch.sigmoid(self.lin2(layer1Out)) * (max_rating - min_rating) + min_rating               \n",
    "        return layer2Out"
   ]
  },
  {
   "cell_type": "code",
   "execution_count": 92,
   "id": "c9717a40",
   "metadata": {},
   "outputs": [],
   "source": [
    "# wd=1e-5\n",
    "# embeddingsModel = getEmbeddings(noUsers, noMovies)\n",
    "# embeddingsModel = embeddingsModel.cuda()\n",
    "# opt = pyTorch.optim.Adam(embeddingsModel.parameters(), 1e-3, weight_decay=wd) # got parameter() for free , lr = 1e-3\n",
    "# predModel = RecommendationDataset(opt)"
   ]
  },
  {
   "cell_type": "code",
   "execution_count": 117,
   "id": "485d5484",
   "metadata": {},
   "outputs": [],
   "source": [
    "model = RecommendationDataset(noUniqueUsers, noUniqueMovies, hLayerCount=2, dropoutProb1=0.2,\n",
    "                 dropoutProb2=0.2)\n",
    "\n",
    "# load pre-trained model weights (if any)\n",
    "# model.load_state_dict(torch.load('model_weights.pth'))\n",
    "\n",
    "# prepare input data\n",
    "catDataUsers = pyTorch.tensor([1,1,2,2,3,3,4,4])\n",
    "catDataMovies = pyTorch.tensor([242,1,242,1674,242,1674,242,1674])\n",
    "# contDataUsers = pyTorch.tensor([0.6])\n",
    "# contDataMovies = pyTorch.tensor([0.8])"
   ]
  },
  {
   "cell_type": "code",
   "execution_count": 147,
   "id": "bb840c7e",
   "metadata": {},
   "outputs": [
    {
     "name": "stdout",
     "output_type": "stream",
     "text": [
      "tensor([[2.7693],\n",
      "        [2.7689],\n",
      "        [2.7552],\n",
      "        [2.7729],\n",
      "        [2.7119],\n",
      "        [2.7126],\n",
      "        [2.7756],\n",
      "        [2.7737],\n",
      "        [2.7699],\n",
      "        [2.7811],\n",
      "        [2.7737],\n",
      "        [2.7788],\n",
      "        [2.7725],\n",
      "        [2.7725],\n",
      "        [2.7727],\n",
      "        [2.7766]], grad_fn=<AddBackward0>)\n"
     ]
    }
   ],
   "source": [
    "# make a prediction\n",
    "prediction = model(catDataUsers, catDataMovies)\n",
    "\n",
    "#The dot product of the embeddings corresponding to the 2 ids\n",
    "print(prediction)"
   ]
  },
  {
   "cell_type": "code",
   "execution_count": 148,
   "id": "c8c3d6c7",
   "metadata": {},
   "outputs": [],
   "source": [
    "# embeddingsModel.forward(catDataUsers=noUniqueUsers, catDataMovies=noUniqueMovies)"
   ]
  },
  {
   "cell_type": "code",
   "execution_count": 182,
   "id": "0a7f7a31",
   "metadata": {},
   "outputs": [],
   "source": [
    "def retrieveRatings(df, userId, movieId):\n",
    "    return df.loc[(df['user'] == userId) & (df['movie'] == movieId)]['rating'][1]"
   ]
  },
  {
   "cell_type": "code",
   "execution_count": 183,
   "id": "2902b0b7",
   "metadata": {},
   "outputs": [
    {
     "data": {
      "text/plain": [
       "3"
      ]
     },
     "execution_count": 183,
     "metadata": {},
     "output_type": "execute_result"
    }
   ],
   "source": [
    "retrieveRatings(ratings, 63, 242)"
   ]
  },
  {
   "cell_type": "code",
   "execution_count": 203,
   "id": "a019f892",
   "metadata": {},
   "outputs": [],
   "source": [
    "# ratings.loc[(ratings['user'] == 63) & (ratings['movie'] == 242)]['rating'][1]"
   ]
  },
  {
   "cell_type": "code",
   "execution_count": 204,
   "id": "edb90760",
   "metadata": {},
   "outputs": [
    {
     "name": "stdout",
     "output_type": "stream",
     "text": [
      "Loss for User ID: 63 and Movie ID: 242  is  0.056301720440387726\n"
     ]
    }
   ],
   "source": [
    "# define loss function\n",
    "loss_function = pyTorch.nn.MSELoss()\n",
    "\n",
    "testUserId=63\n",
    "testMovieId=242\n",
    "\n",
    "# prepare input data\n",
    "catDataUsers = pyTorch.tensor([testUserId])\n",
    "catDataMovies = pyTorch.tensor([testMovieId])\n",
    "\n",
    "actualRatings = pyTorch.tensor([retrieveRatings(ratings, testUserId, testMovieId)])\n",
    "\n",
    "# make a prediction\n",
    "prediction = model(catDataUsers, catDataMovies)\n",
    "\n",
    "# calculate the loss\n",
    "loss = loss_function(prediction.squeeze(), actualRatings)\n",
    "\n",
    "print(\"Loss for User ID:\", testUserId,\"and Movie ID:\", testMovieId, \" is \", loss.item())"
   ]
  },
  {
   "cell_type": "code",
   "execution_count": null,
   "id": "cd4ad0c3",
   "metadata": {},
   "outputs": [],
   "source": []
  }
 ],
 "metadata": {
  "kernelspec": {
   "display_name": "Python 3 (ipykernel)",
   "language": "python",
   "name": "python3"
  },
  "language_info": {
   "codemirror_mode": {
    "name": "ipython",
    "version": 3
   },
   "file_extension": ".py",
   "mimetype": "text/x-python",
   "name": "python",
   "nbconvert_exporter": "python",
   "pygments_lexer": "ipython3",
   "version": "3.9.13"
  }
 },
 "nbformat": 4,
 "nbformat_minor": 5
}
