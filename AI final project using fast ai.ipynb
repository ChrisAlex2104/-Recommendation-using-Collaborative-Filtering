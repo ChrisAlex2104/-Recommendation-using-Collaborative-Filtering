{
 "cells": [
  {
   "cell_type": "markdown",
   "id": "8a930d95",
   "metadata": {},
   "source": [
    "### Collaborative filtering using fast ai"
   ]
  },
  {
   "cell_type": "code",
   "execution_count": 3,
   "id": "c8d4e4d0",
   "metadata": {},
   "outputs": [],
   "source": [
    "from fastai.tabular.all import *\n",
    "from fastai.collab import *\n",
    "plt.rcParams['figure.figsize'] = (12, 9)\n",
    "plt.rcParams['font.size'] = 12"
   ]
  },
  {
   "cell_type": "code",
   "execution_count": 4,
   "id": "54dd9699",
   "metadata": {},
   "outputs": [
    {
     "data": {
      "text/html": [
       "<div>\n",
       "<style scoped>\n",
       "    .dataframe tbody tr th:only-of-type {\n",
       "        vertical-align: middle;\n",
       "    }\n",
       "\n",
       "    .dataframe tbody tr th {\n",
       "        vertical-align: top;\n",
       "    }\n",
       "\n",
       "    .dataframe thead th {\n",
       "        text-align: right;\n",
       "    }\n",
       "</style>\n",
       "<table border=\"1\" class=\"dataframe\">\n",
       "  <thead>\n",
       "    <tr style=\"text-align: right;\">\n",
       "      <th></th>\n",
       "      <th>user</th>\n",
       "      <th>movie</th>\n",
       "      <th>rating</th>\n",
       "    </tr>\n",
       "  </thead>\n",
       "  <tbody>\n",
       "    <tr>\n",
       "      <th>0</th>\n",
       "      <td>196</td>\n",
       "      <td>242</td>\n",
       "      <td>3</td>\n",
       "    </tr>\n",
       "    <tr>\n",
       "      <th>1</th>\n",
       "      <td>186</td>\n",
       "      <td>302</td>\n",
       "      <td>3</td>\n",
       "    </tr>\n",
       "    <tr>\n",
       "      <th>2</th>\n",
       "      <td>22</td>\n",
       "      <td>377</td>\n",
       "      <td>1</td>\n",
       "    </tr>\n",
       "    <tr>\n",
       "      <th>3</th>\n",
       "      <td>244</td>\n",
       "      <td>51</td>\n",
       "      <td>2</td>\n",
       "    </tr>\n",
       "    <tr>\n",
       "      <th>4</th>\n",
       "      <td>166</td>\n",
       "      <td>346</td>\n",
       "      <td>1</td>\n",
       "    </tr>\n",
       "  </tbody>\n",
       "</table>\n",
       "</div>"
      ],
      "text/plain": [
       "   user  movie  rating\n",
       "0   196    242       3\n",
       "1   186    302       3\n",
       "2    22    377       1\n",
       "3   244     51       2\n",
       "4   166    346       1"
      ]
     },
     "execution_count": 4,
     "metadata": {},
     "output_type": "execute_result"
    }
   ],
   "source": [
    "#loading the dataset\n",
    "ratings = pd.read_csv('u.data', delimiter='\\t', header=None,\n",
    "                      usecols=(0,1,2), names=['user','movie','rating'])\n",
    "ratings.head()\n",
    "ratings.head()"
   ]
  },
  {
   "cell_type": "code",
   "execution_count": 6,
   "id": "3be21f79",
   "metadata": {},
   "outputs": [
    {
     "data": {
      "text/html": [
       "<div>\n",
       "<style scoped>\n",
       "    .dataframe tbody tr th:only-of-type {\n",
       "        vertical-align: middle;\n",
       "    }\n",
       "\n",
       "    .dataframe tbody tr th {\n",
       "        vertical-align: top;\n",
       "    }\n",
       "\n",
       "    .dataframe thead th {\n",
       "        text-align: right;\n",
       "    }\n",
       "</style>\n",
       "<table border=\"1\" class=\"dataframe\">\n",
       "  <thead>\n",
       "    <tr style=\"text-align: right;\">\n",
       "      <th></th>\n",
       "      <th>movie</th>\n",
       "      <th>title</th>\n",
       "    </tr>\n",
       "  </thead>\n",
       "  <tbody>\n",
       "    <tr>\n",
       "      <th>0</th>\n",
       "      <td>1</td>\n",
       "      <td>Toy Story (1995)</td>\n",
       "    </tr>\n",
       "    <tr>\n",
       "      <th>1</th>\n",
       "      <td>2</td>\n",
       "      <td>GoldenEye (1995)</td>\n",
       "    </tr>\n",
       "    <tr>\n",
       "      <th>2</th>\n",
       "      <td>3</td>\n",
       "      <td>Four Rooms (1995)</td>\n",
       "    </tr>\n",
       "    <tr>\n",
       "      <th>3</th>\n",
       "      <td>4</td>\n",
       "      <td>Get Shorty (1995)</td>\n",
       "    </tr>\n",
       "    <tr>\n",
       "      <th>4</th>\n",
       "      <td>5</td>\n",
       "      <td>Copycat (1995)</td>\n",
       "    </tr>\n",
       "  </tbody>\n",
       "</table>\n",
       "</div>"
      ],
      "text/plain": [
       "   movie              title\n",
       "0      1   Toy Story (1995)\n",
       "1      2   GoldenEye (1995)\n",
       "2      3  Four Rooms (1995)\n",
       "3      4  Get Shorty (1995)\n",
       "4      5     Copycat (1995)"
      ]
     },
     "execution_count": 6,
     "metadata": {},
     "output_type": "execute_result"
    }
   ],
   "source": [
    "#loading the movie code title\n",
    "movies = pd.read_csv('u.item',  delimiter='|', encoding='latin-1',\n",
    "                     usecols=(0,1), names=('movie','title'), header=None)\n",
    "movies.head()"
   ]
  },
  {
   "cell_type": "code",
   "execution_count": 75,
   "id": "77152aaa",
   "metadata": {},
   "outputs": [
    {
     "data": {
      "text/html": [
       "<table border=\"1\" class=\"dataframe\">\n",
       "  <thead>\n",
       "    <tr style=\"text-align: right;\">\n",
       "      <th></th>\n",
       "      <th>user</th>\n",
       "      <th>title</th>\n",
       "      <th>rating</th>\n",
       "    </tr>\n",
       "  </thead>\n",
       "  <tbody>\n",
       "    <tr>\n",
       "      <th>0</th>\n",
       "      <td>14</td>\n",
       "      <td>Celluloid Closet, The (1995)</td>\n",
       "      <td>2</td>\n",
       "    </tr>\n",
       "    <tr>\n",
       "      <th>1</th>\n",
       "      <td>135</td>\n",
       "      <td>Hunt for Red October, The (1990)</td>\n",
       "      <td>3</td>\n",
       "    </tr>\n",
       "    <tr>\n",
       "      <th>2</th>\n",
       "      <td>135</td>\n",
       "      <td>Killing Zoe (1994)</td>\n",
       "      <td>3</td>\n",
       "    </tr>\n",
       "    <tr>\n",
       "      <th>3</th>\n",
       "      <td>172</td>\n",
       "      <td>Rear Window (1954)</td>\n",
       "      <td>3</td>\n",
       "    </tr>\n",
       "    <tr>\n",
       "      <th>4</th>\n",
       "      <td>6</td>\n",
       "      <td>Mr. Holland's Opus (1995)</td>\n",
       "      <td>3</td>\n",
       "    </tr>\n",
       "    <tr>\n",
       "      <th>5</th>\n",
       "      <td>201</td>\n",
       "      <td>William Shakespeare's Romeo and Juliet (1996)</td>\n",
       "      <td>2</td>\n",
       "    </tr>\n",
       "    <tr>\n",
       "      <th>6</th>\n",
       "      <td>60</td>\n",
       "      <td>Lawrence of Arabia (1962)</td>\n",
       "      <td>4</td>\n",
       "    </tr>\n",
       "    <tr>\n",
       "      <th>7</th>\n",
       "      <td>189</td>\n",
       "      <td>Adventures of Pinocchio, The (1996)</td>\n",
       "      <td>5</td>\n",
       "    </tr>\n",
       "    <tr>\n",
       "      <th>8</th>\n",
       "      <td>42</td>\n",
       "      <td>Independence Day (ID4) (1996)</td>\n",
       "      <td>4</td>\n",
       "    </tr>\n",
       "    <tr>\n",
       "      <th>9</th>\n",
       "      <td>197</td>\n",
       "      <td>As Good As It Gets (1997)</td>\n",
       "      <td>4</td>\n",
       "    </tr>\n",
       "  </tbody>\n",
       "</table>"
      ],
      "text/plain": [
       "<IPython.core.display.HTML object>"
      ]
     },
     "metadata": {},
     "output_type": "display_data"
    }
   ],
   "source": [
    "#loading the test dataset for predictions\n",
    "ratings1 = pd.read_csv('u1.test', delimiter='\\t', header=None,\n",
    "                      usecols=(0,1,2), names=['user','movie','rating'])\n",
    "Test_data = ratings1.merge(movies)\n",
    "#Test_data.head()\n",
    "Test_data1 = CollabDataLoaders.from_df(Test_data, item_name='title', bs=64)\n",
    "Test_data1.show_batch()"
   ]
  },
  {
   "cell_type": "code",
   "execution_count": 96,
   "id": "5d488e59",
   "metadata": {},
   "outputs": [],
   "source": [
    "# sorted(Test_data['user'].value_counts().index)"
   ]
  },
  {
   "cell_type": "code",
   "execution_count": 8,
   "id": "8fa7aa2e",
   "metadata": {},
   "outputs": [
    {
     "data": {
      "text/html": [
       "<div>\n",
       "<style scoped>\n",
       "    .dataframe tbody tr th:only-of-type {\n",
       "        vertical-align: middle;\n",
       "    }\n",
       "\n",
       "    .dataframe tbody tr th {\n",
       "        vertical-align: top;\n",
       "    }\n",
       "\n",
       "    .dataframe thead th {\n",
       "        text-align: right;\n",
       "    }\n",
       "</style>\n",
       "<table border=\"1\" class=\"dataframe\">\n",
       "  <thead>\n",
       "    <tr style=\"text-align: right;\">\n",
       "      <th></th>\n",
       "      <th>user</th>\n",
       "      <th>movie</th>\n",
       "      <th>rating</th>\n",
       "      <th>title</th>\n",
       "    </tr>\n",
       "  </thead>\n",
       "  <tbody>\n",
       "    <tr>\n",
       "      <th>0</th>\n",
       "      <td>196</td>\n",
       "      <td>242</td>\n",
       "      <td>3</td>\n",
       "      <td>Kolya (1996)</td>\n",
       "    </tr>\n",
       "    <tr>\n",
       "      <th>1</th>\n",
       "      <td>63</td>\n",
       "      <td>242</td>\n",
       "      <td>3</td>\n",
       "      <td>Kolya (1996)</td>\n",
       "    </tr>\n",
       "    <tr>\n",
       "      <th>2</th>\n",
       "      <td>226</td>\n",
       "      <td>242</td>\n",
       "      <td>5</td>\n",
       "      <td>Kolya (1996)</td>\n",
       "    </tr>\n",
       "    <tr>\n",
       "      <th>3</th>\n",
       "      <td>154</td>\n",
       "      <td>242</td>\n",
       "      <td>3</td>\n",
       "      <td>Kolya (1996)</td>\n",
       "    </tr>\n",
       "    <tr>\n",
       "      <th>4</th>\n",
       "      <td>306</td>\n",
       "      <td>242</td>\n",
       "      <td>5</td>\n",
       "      <td>Kolya (1996)</td>\n",
       "    </tr>\n",
       "  </tbody>\n",
       "</table>\n",
       "</div>"
      ],
      "text/plain": [
       "   user  movie  rating         title\n",
       "0   196    242       3  Kolya (1996)\n",
       "1    63    242       3  Kolya (1996)\n",
       "2   226    242       5  Kolya (1996)\n",
       "3   154    242       3  Kolya (1996)\n",
       "4   306    242       5  Kolya (1996)"
      ]
     },
     "execution_count": 8,
     "metadata": {},
     "output_type": "execute_result"
    }
   ],
   "source": [
    "#merging the dataframe to replace movie with title\n",
    "ratings = ratings.merge(movies)\n",
    "ratings.head()"
   ]
  },
  {
   "cell_type": "code",
   "execution_count": 95,
   "id": "b97126ee",
   "metadata": {},
   "outputs": [],
   "source": [
    "# sorted(ratings['user'].value_counts().index)"
   ]
  },
  {
   "cell_type": "code",
   "execution_count": 9,
   "id": "6d7218a6",
   "metadata": {},
   "outputs": [],
   "source": [
    "#using the collaborative filtering data loader \n",
    "dls = CollabDataLoaders.from_df(ratings, item_name='title', bs=64)"
   ]
  },
  {
   "cell_type": "code",
   "execution_count": 10,
   "id": "7bd8939f",
   "metadata": {},
   "outputs": [
    {
     "data": {
      "text/html": [
       "<table border=\"1\" class=\"dataframe\">\n",
       "  <thead>\n",
       "    <tr style=\"text-align: right;\">\n",
       "      <th></th>\n",
       "      <th>user</th>\n",
       "      <th>title</th>\n",
       "      <th>rating</th>\n",
       "    </tr>\n",
       "  </thead>\n",
       "  <tbody>\n",
       "    <tr>\n",
       "      <th>0</th>\n",
       "      <td>896</td>\n",
       "      <td>Unforgiven (1992)</td>\n",
       "      <td>5</td>\n",
       "    </tr>\n",
       "    <tr>\n",
       "      <th>1</th>\n",
       "      <td>297</td>\n",
       "      <td>Ed Wood (1994)</td>\n",
       "      <td>2</td>\n",
       "    </tr>\n",
       "    <tr>\n",
       "      <th>2</th>\n",
       "      <td>846</td>\n",
       "      <td>Terminal Velocity (1994)</td>\n",
       "      <td>2</td>\n",
       "    </tr>\n",
       "    <tr>\n",
       "      <th>3</th>\n",
       "      <td>95</td>\n",
       "      <td>Manchurian Candidate, The (1962)</td>\n",
       "      <td>5</td>\n",
       "    </tr>\n",
       "    <tr>\n",
       "      <th>4</th>\n",
       "      <td>916</td>\n",
       "      <td>M. Butterfly (1993)</td>\n",
       "      <td>3</td>\n",
       "    </tr>\n",
       "    <tr>\n",
       "      <th>5</th>\n",
       "      <td>864</td>\n",
       "      <td>Stargate (1994)</td>\n",
       "      <td>4</td>\n",
       "    </tr>\n",
       "    <tr>\n",
       "      <th>6</th>\n",
       "      <td>429</td>\n",
       "      <td>Empire Strikes Back, The (1980)</td>\n",
       "      <td>5</td>\n",
       "    </tr>\n",
       "    <tr>\n",
       "      <th>7</th>\n",
       "      <td>21</td>\n",
       "      <td>Unforgettable (1996)</td>\n",
       "      <td>2</td>\n",
       "    </tr>\n",
       "    <tr>\n",
       "      <th>8</th>\n",
       "      <td>845</td>\n",
       "      <td>English Patient, The (1996)</td>\n",
       "      <td>5</td>\n",
       "    </tr>\n",
       "    <tr>\n",
       "      <th>9</th>\n",
       "      <td>450</td>\n",
       "      <td>Pink Floyd - The Wall (1982)</td>\n",
       "      <td>1</td>\n",
       "    </tr>\n",
       "  </tbody>\n",
       "</table>"
      ],
      "text/plain": [
       "<IPython.core.display.HTML object>"
      ]
     },
     "metadata": {},
     "output_type": "display_data"
    }
   ],
   "source": [
    "dls.show_batch()"
   ]
  },
  {
   "cell_type": "code",
   "execution_count": 11,
   "id": "8e2a5ca3",
   "metadata": {},
   "outputs": [],
   "source": [
    "#using collaborative filtering learner to get the embedding and to make predictions\n",
    "learn = collab_learner(dls, n_factors=50, y_range=(0, 5.5))"
   ]
  },
  {
   "cell_type": "code",
   "execution_count": 12,
   "id": "b1210997",
   "metadata": {},
   "outputs": [
    {
     "data": {
      "text/html": [
       "\n",
       "<style>\n",
       "    /* Turns off some styling */\n",
       "    progress {\n",
       "        /* gets rid of default border in Firefox and Opera. */\n",
       "        border: none;\n",
       "        /* Needs to be in here for Safari polyfill so background images work as expected. */\n",
       "        background-size: auto;\n",
       "    }\n",
       "    progress:not([value]), progress:not([value])::-webkit-progress-bar {\n",
       "        background: repeating-linear-gradient(45deg, #7e7e7e, #7e7e7e 10px, #5c5c5c 10px, #5c5c5c 20px);\n",
       "    }\n",
       "    .progress-bar-interrupted, .progress-bar-interrupted::-webkit-progress-bar {\n",
       "        background: #F44336;\n",
       "    }\n",
       "</style>\n"
      ],
      "text/plain": [
       "<IPython.core.display.HTML object>"
      ]
     },
     "metadata": {},
     "output_type": "display_data"
    },
    {
     "data": {
      "text/html": [],
      "text/plain": [
       "<IPython.core.display.HTML object>"
      ]
     },
     "metadata": {},
     "output_type": "display_data"
    },
    {
     "data": {
      "image/png": "[encoded data removed]",
      "text/plain": [
       "<Figure size 864x648 with 1 Axes>"
      ]
     },
     "metadata": {
      "needs_background": "light"
     },
     "output_type": "display_data"
    }
   ],
   "source": [
    "#the following code plots and finds the ideal learning rate for the model\n",
    "lr = learn.lr_find()"
   ]
  },
  {
   "cell_type": "code",
   "execution_count": 13,
   "id": "4c218659",
   "metadata": {},
   "outputs": [
    {
     "data": {
      "text/plain": [
       "SuggestedLRs(valley=0.009120108559727669)"
      ]
     },
     "execution_count": 13,
     "metadata": {},
     "output_type": "execute_result"
    }
   ],
   "source": [
    "lr"
   ]
  },
  {
   "cell_type": "code",
   "execution_count": 14,
   "id": "0d59e028",
   "metadata": {},
   "outputs": [],
   "source": [
    "# learn.fit_one_cycle(5, 5e-3, wd=0.1)"
   ]
  },
  {
   "cell_type": "code",
   "execution_count": 15,
   "id": "2be1d510",
   "metadata": {},
   "outputs": [
    {
     "data": {
      "text/html": [
       "\n",
       "<style>\n",
       "    /* Turns off some styling */\n",
       "    progress {\n",
       "        /* gets rid of default border in Firefox and Opera. */\n",
       "        border: none;\n",
       "        /* Needs to be in here for Safari polyfill so background images work as expected. */\n",
       "        background-size: auto;\n",
       "    }\n",
       "    progress:not([value]), progress:not([value])::-webkit-progress-bar {\n",
       "        background: repeating-linear-gradient(45deg, #7e7e7e, #7e7e7e 10px, #5c5c5c 10px, #5c5c5c 20px);\n",
       "    }\n",
       "    .progress-bar-interrupted, .progress-bar-interrupted::-webkit-progress-bar {\n",
       "        background: #F44336;\n",
       "    }\n",
       "</style>\n"
      ],
      "text/plain": [
       "<IPython.core.display.HTML object>"
      ]
     },
     "metadata": {},
     "output_type": "display_data"
    },
    {
     "data": {
      "text/html": [
       "<table border=\"1\" class=\"dataframe\">\n",
       "  <thead>\n",
       "    <tr style=\"text-align: left;\">\n",
       "      <th>epoch</th>\n",
       "      <th>train_loss</th>\n",
       "      <th>valid_loss</th>\n",
       "      <th>time</th>\n",
       "    </tr>\n",
       "  </thead>\n",
       "  <tbody>\n",
       "    <tr>\n",
       "      <td>0</td>\n",
       "      <td>0.947879</td>\n",
       "      <td>0.950871</td>\n",
       "      <td>00:07</td>\n",
       "    </tr>\n",
       "    <tr>\n",
       "      <td>1</td>\n",
       "      <td>0.885012</td>\n",
       "      <td>0.887456</td>\n",
       "      <td>00:08</td>\n",
       "    </tr>\n",
       "    <tr>\n",
       "      <td>2</td>\n",
       "      <td>0.740532</td>\n",
       "      <td>0.843874</td>\n",
       "      <td>00:08</td>\n",
       "    </tr>\n",
       "    <tr>\n",
       "      <td>3</td>\n",
       "      <td>0.553342</td>\n",
       "      <td>0.830003</td>\n",
       "      <td>00:08</td>\n",
       "    </tr>\n",
       "    <tr>\n",
       "      <td>4</td>\n",
       "      <td>0.386865</td>\n",
       "      <td>0.833491</td>\n",
       "      <td>00:08</td>\n",
       "    </tr>\n",
       "  </tbody>\n",
       "</table>"
      ],
      "text/plain": [
       "<IPython.core.display.HTML object>"
      ]
     },
     "metadata": {},
     "output_type": "display_data"
    }
   ],
   "source": [
    "#fitting the model in 5 cycles and using the suggested learning rate\n",
    "learn.fit_one_cycle(5, lr, wd=0.1)"
   ]
  },
  {
   "cell_type": "code",
   "execution_count": 16,
   "id": "9b86bad3",
   "metadata": {},
   "outputs": [],
   "source": [
    "# learn.fit_one_cycle(10, 1e-1, wd=0.1)"
   ]
  },
  {
   "cell_type": "code",
   "execution_count": 17,
   "id": "a6979f80",
   "metadata": {},
   "outputs": [],
   "source": [
    "user_id = 1\n",
    "movie_id = 100\n",
    "input_data = {'user_id': user_id, 'movie_id': movie_id}"
   ]
  },
  {
   "cell_type": "code",
   "execution_count": 76,
   "id": "28f30ec5",
   "metadata": {},
   "outputs": [],
   "source": [
    "Test_data=Test_data.drop(['rating','movie'],axis=1)"
   ]
  },
  {
   "cell_type": "code",
   "execution_count": 77,
   "id": "5845f49a",
   "metadata": {},
   "outputs": [
    {
     "data": {
      "text/html": [
       "\n",
       "<style>\n",
       "    /* Turns off some styling */\n",
       "    progress {\n",
       "        /* gets rid of default border in Firefox and Opera. */\n",
       "        border: none;\n",
       "        /* Needs to be in here for Safari polyfill so background images work as expected. */\n",
       "        background-size: auto;\n",
       "    }\n",
       "    progress:not([value]), progress:not([value])::-webkit-progress-bar {\n",
       "        background: repeating-linear-gradient(45deg, #7e7e7e, #7e7e7e 10px, #5c5c5c 10px, #5c5c5c 20px);\n",
       "    }\n",
       "    .progress-bar-interrupted, .progress-bar-interrupted::-webkit-progress-bar {\n",
       "        background: #F44336;\n",
       "    }\n",
       "</style>\n"
      ],
      "text/plain": [
       "<IPython.core.display.HTML object>"
      ]
     },
     "metadata": {},
     "output_type": "display_data"
    },
    {
     "data": {
      "text/html": [],
      "text/plain": [
       "<IPython.core.display.HTML object>"
      ]
     },
     "metadata": {},
     "output_type": "display_data"
    }
   ],
   "source": [
    "dl = learn.dls.test_dl(Test_data, bs=64) # apply transforms on the test data\n",
    "preds,  _ = learn.get_preds(dl=dl) # get predictions on the test data"
   ]
  },
  {
   "cell_type": "code",
   "execution_count": 78,
   "id": "b4747287",
   "metadata": {},
   "outputs": [
    {
     "data": {
      "text/html": [
       "<table border=\"1\" class=\"dataframe\">\n",
       "  <thead>\n",
       "    <tr style=\"text-align: right;\">\n",
       "      <th></th>\n",
       "      <th>user</th>\n",
       "      <th>title</th>\n",
       "    </tr>\n",
       "  </thead>\n",
       "  <tbody>\n",
       "    <tr>\n",
       "      <th>0</th>\n",
       "      <td>1</td>\n",
       "      <td>Shanghai Triad (Yao a yao yao dao waipo qiao) (1995)</td>\n",
       "    </tr>\n",
       "    <tr>\n",
       "      <th>1</th>\n",
       "      <td>9</td>\n",
       "      <td>Shanghai Triad (Yao a yao yao dao waipo qiao) (1995)</td>\n",
       "    </tr>\n",
       "    <tr>\n",
       "      <th>2</th>\n",
       "      <td>63</td>\n",
       "      <td>Shanghai Triad (Yao a yao yao dao waipo qiao) (1995)</td>\n",
       "    </tr>\n",
       "    <tr>\n",
       "      <th>3</th>\n",
       "      <td>79</td>\n",
       "      <td>Shanghai Triad (Yao a yao yao dao waipo qiao) (1995)</td>\n",
       "    </tr>\n",
       "    <tr>\n",
       "      <th>4</th>\n",
       "      <td>90</td>\n",
       "      <td>Shanghai Triad (Yao a yao yao dao waipo qiao) (1995)</td>\n",
       "    </tr>\n",
       "    <tr>\n",
       "      <th>5</th>\n",
       "      <td>409</td>\n",
       "      <td>Shanghai Triad (Yao a yao yao dao waipo qiao) (1995)</td>\n",
       "    </tr>\n",
       "    <tr>\n",
       "      <th>6</th>\n",
       "      <td>1</td>\n",
       "      <td>Richard III (1995)</td>\n",
       "    </tr>\n",
       "    <tr>\n",
       "      <th>7</th>\n",
       "      <td>7</td>\n",
       "      <td>Richard III (1995)</td>\n",
       "    </tr>\n",
       "    <tr>\n",
       "      <th>8</th>\n",
       "      <td>49</td>\n",
       "      <td>Richard III (1995)</td>\n",
       "    </tr>\n",
       "    <tr>\n",
       "      <th>9</th>\n",
       "      <td>59</td>\n",
       "      <td>Richard III (1995)</td>\n",
       "    </tr>\n",
       "  </tbody>\n",
       "</table>"
      ],
      "text/plain": [
       "<IPython.core.display.HTML object>"
      ]
     },
     "metadata": {},
     "output_type": "display_data"
    }
   ],
   "source": [
    "dl.show_batch()"
   ]
  },
  {
   "cell_type": "code",
   "execution_count": 79,
   "id": "683260ea",
   "metadata": {},
   "outputs": [
    {
     "data": {
      "text/plain": [
       "tensor([4.1729, 4.3269, 3.1407,  ..., 4.1442, 2.9892, 4.0049])"
      ]
     },
     "execution_count": 79,
     "metadata": {},
     "output_type": "execute_result"
    }
   ],
   "source": [
    "preds #predicted values"
   ]
  },
  {
   "cell_type": "code",
   "execution_count": 98,
   "id": "e8724d9a",
   "metadata": {},
   "outputs": [
    {
     "data": {
      "text/html": [
       "<div>\n",
       "<style scoped>\n",
       "    .dataframe tbody tr th:only-of-type {\n",
       "        vertical-align: middle;\n",
       "    }\n",
       "\n",
       "    .dataframe tbody tr th {\n",
       "        vertical-align: top;\n",
       "    }\n",
       "\n",
       "    .dataframe thead th {\n",
       "        text-align: right;\n",
       "    }\n",
       "</style>\n",
       "<table border=\"1\" class=\"dataframe\">\n",
       "  <thead>\n",
       "    <tr style=\"text-align: right;\">\n",
       "      <th></th>\n",
       "      <th>Prediction</th>\n",
       "    </tr>\n",
       "  </thead>\n",
       "  <tbody>\n",
       "    <tr>\n",
       "      <th>0</th>\n",
       "      <td>4.172879</td>\n",
       "    </tr>\n",
       "    <tr>\n",
       "      <th>1</th>\n",
       "      <td>4.326862</td>\n",
       "    </tr>\n",
       "    <tr>\n",
       "      <th>2</th>\n",
       "      <td>3.140697</td>\n",
       "    </tr>\n",
       "    <tr>\n",
       "      <th>3</th>\n",
       "      <td>4.168423</td>\n",
       "    </tr>\n",
       "    <tr>\n",
       "      <th>4</th>\n",
       "      <td>4.267342</td>\n",
       "    </tr>\n",
       "    <tr>\n",
       "      <th>5</th>\n",
       "      <td>3.732576</td>\n",
       "    </tr>\n",
       "    <tr>\n",
       "      <th>6</th>\n",
       "      <td>3.729470</td>\n",
       "    </tr>\n",
       "    <tr>\n",
       "      <th>7</th>\n",
       "      <td>4.075462</td>\n",
       "    </tr>\n",
       "    <tr>\n",
       "      <th>8</th>\n",
       "      <td>4.010137</td>\n",
       "    </tr>\n",
       "    <tr>\n",
       "      <th>9</th>\n",
       "      <td>3.723830</td>\n",
       "    </tr>\n",
       "  </tbody>\n",
       "</table>\n",
       "</div>"
      ],
      "text/plain": [
       "   Prediction\n",
       "0    4.172879\n",
       "1    4.326862\n",
       "2    3.140697\n",
       "3    4.168423\n",
       "4    4.267342\n",
       "5    3.732576\n",
       "6    3.729470\n",
       "7    4.075462\n",
       "8    4.010137\n",
       "9    3.723830"
      ]
     },
     "execution_count": 98,
     "metadata": {},
     "output_type": "execute_result"
    }
   ],
   "source": [
    "pd.DataFrame(preds.numpy(),columns=[\"Prediction\"] ).head(10)#predicted values in a data frame"
   ]
  },
  {
   "cell_type": "code",
   "execution_count": 81,
   "id": "e626a43f",
   "metadata": {},
   "outputs": [
    {
     "data": {
      "text/html": [
       "<div>\n",
       "<style scoped>\n",
       "    .dataframe tbody tr th:only-of-type {\n",
       "        vertical-align: middle;\n",
       "    }\n",
       "\n",
       "    .dataframe tbody tr th {\n",
       "        vertical-align: top;\n",
       "    }\n",
       "\n",
       "    .dataframe thead th {\n",
       "        text-align: right;\n",
       "    }\n",
       "</style>\n",
       "<table border=\"1\" class=\"dataframe\">\n",
       "  <thead>\n",
       "    <tr style=\"text-align: right;\">\n",
       "      <th></th>\n",
       "      <th>user</th>\n",
       "      <th>title</th>\n",
       "    </tr>\n",
       "  </thead>\n",
       "  <tbody>\n",
       "    <tr>\n",
       "      <th>0</th>\n",
       "      <td>1</td>\n",
       "      <td>Shanghai Triad (Yao a yao yao dao waipo qiao) (1995)</td>\n",
       "    </tr>\n",
       "    <tr>\n",
       "      <th>1</th>\n",
       "      <td>9</td>\n",
       "      <td>Shanghai Triad (Yao a yao yao dao waipo qiao) (1995)</td>\n",
       "    </tr>\n",
       "    <tr>\n",
       "      <th>2</th>\n",
       "      <td>63</td>\n",
       "      <td>Shanghai Triad (Yao a yao yao dao waipo qiao) (1995)</td>\n",
       "    </tr>\n",
       "    <tr>\n",
       "      <th>3</th>\n",
       "      <td>79</td>\n",
       "      <td>Shanghai Triad (Yao a yao yao dao waipo qiao) (1995)</td>\n",
       "    </tr>\n",
       "    <tr>\n",
       "      <th>4</th>\n",
       "      <td>90</td>\n",
       "      <td>Shanghai Triad (Yao a yao yao dao waipo qiao) (1995)</td>\n",
       "    </tr>\n",
       "    <tr>\n",
       "      <th>5</th>\n",
       "      <td>409</td>\n",
       "      <td>Shanghai Triad (Yao a yao yao dao waipo qiao) (1995)</td>\n",
       "    </tr>\n",
       "    <tr>\n",
       "      <th>6</th>\n",
       "      <td>1</td>\n",
       "      <td>Richard III (1995)</td>\n",
       "    </tr>\n",
       "    <tr>\n",
       "      <th>7</th>\n",
       "      <td>7</td>\n",
       "      <td>Richard III (1995)</td>\n",
       "    </tr>\n",
       "    <tr>\n",
       "      <th>8</th>\n",
       "      <td>49</td>\n",
       "      <td>Richard III (1995)</td>\n",
       "    </tr>\n",
       "    <tr>\n",
       "      <th>9</th>\n",
       "      <td>59</td>\n",
       "      <td>Richard III (1995)</td>\n",
       "    </tr>\n",
       "  </tbody>\n",
       "</table>\n",
       "</div>"
      ],
      "text/plain": [
       "   user                                                 title\n",
       "0     1  Shanghai Triad (Yao a yao yao dao waipo qiao) (1995)\n",
       "1     9  Shanghai Triad (Yao a yao yao dao waipo qiao) (1995)\n",
       "2    63  Shanghai Triad (Yao a yao yao dao waipo qiao) (1995)\n",
       "3    79  Shanghai Triad (Yao a yao yao dao waipo qiao) (1995)\n",
       "4    90  Shanghai Triad (Yao a yao yao dao waipo qiao) (1995)\n",
       "5   409  Shanghai Triad (Yao a yao yao dao waipo qiao) (1995)\n",
       "6     1                                    Richard III (1995)\n",
       "7     7                                    Richard III (1995)\n",
       "8    49                                    Richard III (1995)\n",
       "9    59                                    Richard III (1995)"
      ]
     },
     "execution_count": 81,
     "metadata": {},
     "output_type": "execute_result"
    }
   ],
   "source": [
    "Test_data.head(10)"
   ]
  },
  {
   "cell_type": "code",
   "execution_count": 82,
   "id": "a232e313",
   "metadata": {},
   "outputs": [
    {
     "data": {
      "text/plain": [
       "array(['Star Wars (1977)', 'Contact (1997)', 'Fargo (1996)',\n",
       "       'Return of the Jedi (1983)', 'Liar Liar (1997)',\n",
       "       'English Patient, The (1996)', 'Scream (1996)', 'Toy Story (1995)',\n",
       "       'Air Force One (1997)', 'Independence Day (ID4) (1996)'],\n",
       "      dtype=object)"
      ]
     },
     "execution_count": 82,
     "metadata": {},
     "output_type": "execute_result"
    }
   ],
   "source": [
    "#getting the top 1000 viewed movies\n",
    "g = ratings.groupby('title')['rating'].count()\n",
    "top_movies = g.sort_values(ascending=False).index.values[:1000]\n",
    "top_movies[:10]"
   ]
  },
  {
   "cell_type": "code",
   "execution_count": 59,
   "id": "85d805e7",
   "metadata": {},
   "outputs": [
    {
     "data": {
      "text/html": [
       "<div>\n",
       "<style scoped>\n",
       "    .dataframe tbody tr th:only-of-type {\n",
       "        vertical-align: middle;\n",
       "    }\n",
       "\n",
       "    .dataframe tbody tr th {\n",
       "        vertical-align: top;\n",
       "    }\n",
       "\n",
       "    .dataframe thead th {\n",
       "        text-align: right;\n",
       "    }\n",
       "</style>\n",
       "<table border=\"1\" class=\"dataframe\">\n",
       "  <thead>\n",
       "    <tr style=\"text-align: right;\">\n",
       "      <th></th>\n",
       "      <th>rating</th>\n",
       "    </tr>\n",
       "    <tr>\n",
       "      <th>title</th>\n",
       "      <th></th>\n",
       "    </tr>\n",
       "  </thead>\n",
       "  <tbody>\n",
       "    <tr>\n",
       "      <th>'Til There Was You (1997)</th>\n",
       "      <td>2.333333</td>\n",
       "    </tr>\n",
       "    <tr>\n",
       "      <th>1-900 (1994)</th>\n",
       "      <td>2.600000</td>\n",
       "    </tr>\n",
       "    <tr>\n",
       "      <th>101 Dalmatians (1996)</th>\n",
       "      <td>2.908257</td>\n",
       "    </tr>\n",
       "    <tr>\n",
       "      <th>12 Angry Men (1957)</th>\n",
       "      <td>4.344000</td>\n",
       "    </tr>\n",
       "    <tr>\n",
       "      <th>187 (1997)</th>\n",
       "      <td>3.024390</td>\n",
       "    </tr>\n",
       "    <tr>\n",
       "      <th>...</th>\n",
       "      <td>...</td>\n",
       "    </tr>\n",
       "    <tr>\n",
       "      <th>Young Guns II (1990)</th>\n",
       "      <td>2.772727</td>\n",
       "    </tr>\n",
       "    <tr>\n",
       "      <th>Young Poisoner's Handbook, The (1995)</th>\n",
       "      <td>3.341463</td>\n",
       "    </tr>\n",
       "    <tr>\n",
       "      <th>Zeus and Roxanne (1997)</th>\n",
       "      <td>2.166667</td>\n",
       "    </tr>\n",
       "    <tr>\n",
       "      <th>unknown</th>\n",
       "      <td>3.444444</td>\n",
       "    </tr>\n",
       "    <tr>\n",
       "      <th>Á köldum klaka (Cold Fever) (1994)</th>\n",
       "      <td>3.000000</td>\n",
       "    </tr>\n",
       "  </tbody>\n",
       "</table>\n",
       "<p>1664 rows × 1 columns</p>\n",
       "</div>"
      ],
      "text/plain": [
       "                                         rating\n",
       "title                                          \n",
       "'Til There Was You (1997)              2.333333\n",
       "1-900 (1994)                           2.600000\n",
       "101 Dalmatians (1996)                  2.908257\n",
       "12 Angry Men (1957)                    4.344000\n",
       "187 (1997)                             3.024390\n",
       "...                                         ...\n",
       "Young Guns II (1990)                   2.772727\n",
       "Young Poisoner's Handbook, The (1995)  3.341463\n",
       "Zeus and Roxanne (1997)                2.166667\n",
       "unknown                                3.444444\n",
       "Á köldum klaka (Cold Fever) (1994)     3.000000\n",
       "\n",
       "[1664 rows x 1 columns]"
      ]
     },
     "execution_count": 59,
     "metadata": {},
     "output_type": "execute_result"
    }
   ],
   "source": [
    "#finding the mean  rating for the above top 1000 movies\n",
    "h = ratings.groupby('title')['rating'].mean()\n",
    "pd.DataFrame(h)"
   ]
  },
  {
   "cell_type": "code",
   "execution_count": 63,
   "id": "62ec9d05",
   "metadata": {},
   "outputs": [],
   "source": [
    "meta_data=pd.DataFrame(top_movies,columns=[\"title\"] ).merge(pd.DataFrame(h),left_on=\"title\", right_on=\"title\")"
   ]
  },
  {
   "cell_type": "code",
   "execution_count": 64,
   "id": "f1b22c0a",
   "metadata": {},
   "outputs": [],
   "source": [
    "#Getting the meta data in a tsv file to be used in embbeding projector\n",
    "meta_data.to_csv('metadata.tsv', index=False, sep='\\t')"
   ]
  },
  {
   "cell_type": "code",
   "execution_count": 49,
   "id": "5161ee4d",
   "metadata": {},
   "outputs": [
    {
     "data": {
      "text/plain": [
       "torch.Size([1000])"
      ]
     },
     "execution_count": 49,
     "metadata": {},
     "output_type": "execute_result"
    }
   ],
   "source": [
    "#getting the bias for each of the top 1000 movies\n",
    "movie_bias = learn.model.bias(top_movies, is_item=True)\n",
    "movie_bias.shape"
   ]
  },
  {
   "cell_type": "code",
   "execution_count": 26,
   "id": "4dfd8862",
   "metadata": {},
   "outputs": [],
   "source": [
    "mean_ratings = ratings.groupby('title')['rating'].mean()\n",
    "movie_ratings = [(b, i, mean_ratings.loc[i]) for i,b in zip(top_movies,movie_bias)]"
   ]
  },
  {
   "cell_type": "code",
   "execution_count": 27,
   "id": "001f9462",
   "metadata": {},
   "outputs": [
    {
     "data": {
      "text/plain": [
       "[(tensor(-0.4616),\n",
       "  'Children of the Corn: The Gathering (1996)',\n",
       "  1.3157894736842106),\n",
       " (tensor(-0.3985),\n",
       "  'Lawnmower Man 2: Beyond Cyberspace (1996)',\n",
       "  1.7142857142857142),\n",
       " (tensor(-0.3767), 'Mortal Kombat: Annihilation (1997)', 1.9534883720930232),\n",
       " (tensor(-0.3693), 'Flintstones, The (1994)', 2.064516129032258),\n",
       " (tensor(-0.3525), 'Speed 2: Cruise Control (1997)', 2.1315789473684212),\n",
       " (tensor(-0.3377), \"McHale's Navy (1997)\", 2.1884057971014492),\n",
       " (tensor(-0.3339), 'Showgirls (1995)', 1.9565217391304348),\n",
       " (tensor(-0.3249), 'Bio-Dome (1996)', 1.903225806451613),\n",
       " (tensor(-0.3059), 'Cable Guy, The (1996)', 2.339622641509434),\n",
       " (tensor(-0.3029), 'Barb Wire (1996)', 1.9333333333333333),\n",
       " (tensor(-0.2981), 'Crow: City of Angels, The (1996)', 1.9487179487179487),\n",
       " (tensor(-0.2835), 'Grease 2 (1982)', 2.0),\n",
       " (tensor(-0.2774), 'Free Willy 3: The Rescue (1997)', 1.7407407407407407),\n",
       " (tensor(-0.2707), 'Beverly Hills Ninja (1997)', 2.3125),\n",
       " (tensor(-0.2670), 'Tales from the Hood (1995)', 2.037037037037037)]"
      ]
     },
     "execution_count": 27,
     "metadata": {},
     "output_type": "execute_result"
    }
   ],
   "source": [
    "item0 = lambda o:o[0]\n",
    "sorted(movie_ratings, key=item0)[:15]"
   ]
  },
  {
   "cell_type": "code",
   "execution_count": 28,
   "id": "0d586f93",
   "metadata": {},
   "outputs": [
    {
     "data": {
      "text/plain": [
       "[(tensor(0.7077), 'Titanic (1997)', 4.2457142857142856),\n",
       " (tensor(0.6960), 'Good Will Hunting (1997)', 4.262626262626263),\n",
       " (tensor(0.6634), 'Shawshank Redemption, The (1994)', 4.445229681978798),\n",
       " (tensor(0.6565), 'Silence of the Lambs, The (1991)', 4.28974358974359),\n",
       " (tensor(0.6504), 'Star Wars (1977)', 4.3584905660377355),\n",
       " (tensor(0.6449), \"Schindler's List (1993)\", 4.466442953020135),\n",
       " (tensor(0.6437), 'Casablanca (1942)', 4.45679012345679),\n",
       " (tensor(0.6296), 'Usual Suspects, The (1995)', 4.385767790262173),\n",
       " (tensor(0.6281), 'Rear Window (1954)', 4.3875598086124405),\n",
       " (tensor(0.6275), 'As Good As It Gets (1997)', 4.196428571428571),\n",
       " (tensor(0.6192), 'L.A. Confidential (1997)', 4.161616161616162),\n",
       " (tensor(0.5876), 'Godfather, The (1972)', 4.283292978208232),\n",
       " (tensor(0.5680), 'Raiders of the Lost Ark (1981)', 4.252380952380952),\n",
       " (tensor(0.5656), 'Apt Pupil (1998)', 4.1),\n",
       " (tensor(0.5625), \"One Flew Over the Cuckoo's Nest (1975)\", 4.291666666666667)]"
      ]
     },
     "execution_count": 28,
     "metadata": {},
     "output_type": "execute_result"
    }
   ],
   "source": [
    "sorted(movie_ratings, key=lambda o: o[0], reverse=True)[:15]"
   ]
  },
  {
   "cell_type": "code",
   "execution_count": null,
   "id": "d91962e6",
   "metadata": {},
   "outputs": [],
   "source": [
    "#Movie_weights"
   ]
  },
  {
   "cell_type": "code",
   "execution_count": 50,
   "id": "33993fe0",
   "metadata": {},
   "outputs": [
    {
     "data": {
      "text/plain": [
       "torch.Size([1000, 50])"
      ]
     },
     "execution_count": 50,
     "metadata": {},
     "output_type": "execute_result"
    }
   ],
   "source": [
    "#finding the weight or the embbeding vector\n",
    "movie_w = learn.model.weight(top_movies, is_item=True)\n",
    "movie_w.shape"
   ]
  },
  {
   "cell_type": "code",
   "execution_count": 30,
   "id": "f7c32cb4",
   "metadata": {},
   "outputs": [
    {
     "data": {
      "text/plain": [
       "torch.Size([1000, 3])"
      ]
     },
     "execution_count": 30,
     "metadata": {},
     "output_type": "execute_result"
    }
   ],
   "source": [
    "movie_pca = movie_w.pca(3)\n",
    "movie_pca.shape"
   ]
  },
  {
   "cell_type": "code",
   "execution_count": 65,
   "id": "6114828a",
   "metadata": {},
   "outputs": [],
   "source": [
    "embedding_df=pd.DataFrame(movie_w)"
   ]
  },
  {
   "cell_type": "code",
   "execution_count": 66,
   "id": "7892e0d0",
   "metadata": {},
   "outputs": [
    {
     "data": {
      "text/html": [
       "<div>\n",
       "<style scoped>\n",
       "    .dataframe tbody tr th:only-of-type {\n",
       "        vertical-align: middle;\n",
       "    }\n",
       "\n",
       "    .dataframe tbody tr th {\n",
       "        vertical-align: top;\n",
       "    }\n",
       "\n",
       "    .dataframe thead th {\n",
       "        text-align: right;\n",
       "    }\n",
       "</style>\n",
       "<table border=\"1\" class=\"dataframe\">\n",
       "  <thead>\n",
       "    <tr style=\"text-align: right;\">\n",
       "      <th></th>\n",
       "      <th>0</th>\n",
       "      <th>1</th>\n",
       "      <th>2</th>\n",
       "      <th>3</th>\n",
       "      <th>4</th>\n",
       "      <th>5</th>\n",
       "      <th>6</th>\n",
       "      <th>7</th>\n",
       "      <th>8</th>\n",
       "      <th>9</th>\n",
       "      <th>...</th>\n",
       "      <th>40</th>\n",
       "      <th>41</th>\n",
       "      <th>42</th>\n",
       "      <th>43</th>\n",
       "      <th>44</th>\n",
       "      <th>45</th>\n",
       "      <th>46</th>\n",
       "      <th>47</th>\n",
       "      <th>48</th>\n",
       "      <th>49</th>\n",
       "    </tr>\n",
       "  </thead>\n",
       "  <tbody>\n",
       "    <tr>\n",
       "      <th>0</th>\n",
       "      <td>0.308528</td>\n",
       "      <td>-0.013217</td>\n",
       "      <td>0.288833</td>\n",
       "      <td>-0.291891</td>\n",
       "      <td>-0.227148</td>\n",
       "      <td>-0.298180</td>\n",
       "      <td>0.308640</td>\n",
       "      <td>-0.484184</td>\n",
       "      <td>-0.228409</td>\n",
       "      <td>0.179538</td>\n",
       "      <td>...</td>\n",
       "      <td>-0.240356</td>\n",
       "      <td>0.569082</td>\n",
       "      <td>0.407731</td>\n",
       "      <td>-0.241692</td>\n",
       "      <td>-0.161494</td>\n",
       "      <td>-0.252329</td>\n",
       "      <td>0.045817</td>\n",
       "      <td>0.350174</td>\n",
       "      <td>0.227110</td>\n",
       "      <td>-0.370955</td>\n",
       "    </tr>\n",
       "    <tr>\n",
       "      <th>1</th>\n",
       "      <td>0.068197</td>\n",
       "      <td>-0.429078</td>\n",
       "      <td>-0.172423</td>\n",
       "      <td>0.281694</td>\n",
       "      <td>0.435428</td>\n",
       "      <td>-0.006195</td>\n",
       "      <td>0.299924</td>\n",
       "      <td>-0.417406</td>\n",
       "      <td>-0.258230</td>\n",
       "      <td>-0.045066</td>\n",
       "      <td>...</td>\n",
       "      <td>-0.003249</td>\n",
       "      <td>0.389922</td>\n",
       "      <td>-0.177987</td>\n",
       "      <td>-0.204373</td>\n",
       "      <td>0.447197</td>\n",
       "      <td>-0.326505</td>\n",
       "      <td>-0.022198</td>\n",
       "      <td>0.083480</td>\n",
       "      <td>0.220716</td>\n",
       "      <td>-0.376042</td>\n",
       "    </tr>\n",
       "    <tr>\n",
       "      <th>2</th>\n",
       "      <td>-0.273482</td>\n",
       "      <td>-0.359337</td>\n",
       "      <td>-0.286360</td>\n",
       "      <td>-0.002652</td>\n",
       "      <td>0.320630</td>\n",
       "      <td>-0.221947</td>\n",
       "      <td>0.094865</td>\n",
       "      <td>0.186873</td>\n",
       "      <td>-0.079958</td>\n",
       "      <td>0.334368</td>\n",
       "      <td>...</td>\n",
       "      <td>-0.109814</td>\n",
       "      <td>0.308935</td>\n",
       "      <td>0.140578</td>\n",
       "      <td>0.406091</td>\n",
       "      <td>-0.226519</td>\n",
       "      <td>-0.231256</td>\n",
       "      <td>0.206547</td>\n",
       "      <td>-0.195823</td>\n",
       "      <td>0.205395</td>\n",
       "      <td>-0.173194</td>\n",
       "    </tr>\n",
       "    <tr>\n",
       "      <th>3</th>\n",
       "      <td>0.467282</td>\n",
       "      <td>0.188244</td>\n",
       "      <td>0.120499</td>\n",
       "      <td>-0.235398</td>\n",
       "      <td>-0.297719</td>\n",
       "      <td>-0.289606</td>\n",
       "      <td>0.375755</td>\n",
       "      <td>-0.376754</td>\n",
       "      <td>-0.337205</td>\n",
       "      <td>-0.092261</td>\n",
       "      <td>...</td>\n",
       "      <td>-0.014364</td>\n",
       "      <td>0.416114</td>\n",
       "      <td>0.287444</td>\n",
       "      <td>-0.471970</td>\n",
       "      <td>-0.064032</td>\n",
       "      <td>-0.226923</td>\n",
       "      <td>0.319533</td>\n",
       "      <td>0.501317</td>\n",
       "      <td>0.144242</td>\n",
       "      <td>-0.003146</td>\n",
       "    </tr>\n",
       "    <tr>\n",
       "      <th>4</th>\n",
       "      <td>0.246266</td>\n",
       "      <td>0.034584</td>\n",
       "      <td>0.398575</td>\n",
       "      <td>-0.179038</td>\n",
       "      <td>0.181393</td>\n",
       "      <td>-0.029419</td>\n",
       "      <td>-0.372054</td>\n",
       "      <td>-0.383708</td>\n",
       "      <td>-0.071520</td>\n",
       "      <td>0.006908</td>\n",
       "      <td>...</td>\n",
       "      <td>0.199087</td>\n",
       "      <td>0.114092</td>\n",
       "      <td>-0.030003</td>\n",
       "      <td>0.162205</td>\n",
       "      <td>0.387994</td>\n",
       "      <td>-0.281378</td>\n",
       "      <td>-0.185605</td>\n",
       "      <td>0.628066</td>\n",
       "      <td>0.245188</td>\n",
       "      <td>0.079691</td>\n",
       "    </tr>\n",
       "    <tr>\n",
       "      <th>...</th>\n",
       "      <td>...</td>\n",
       "      <td>...</td>\n",
       "      <td>...</td>\n",
       "      <td>...</td>\n",
       "      <td>...</td>\n",
       "      <td>...</td>\n",
       "      <td>...</td>\n",
       "      <td>...</td>\n",
       "      <td>...</td>\n",
       "      <td>...</td>\n",
       "      <td>...</td>\n",
       "      <td>...</td>\n",
       "      <td>...</td>\n",
       "      <td>...</td>\n",
       "      <td>...</td>\n",
       "      <td>...</td>\n",
       "      <td>...</td>\n",
       "      <td>...</td>\n",
       "      <td>...</td>\n",
       "      <td>...</td>\n",
       "      <td>...</td>\n",
       "    </tr>\n",
       "    <tr>\n",
       "      <th>995</th>\n",
       "      <td>-0.222492</td>\n",
       "      <td>-0.043528</td>\n",
       "      <td>0.045183</td>\n",
       "      <td>-0.059561</td>\n",
       "      <td>-0.010350</td>\n",
       "      <td>0.270981</td>\n",
       "      <td>-0.146375</td>\n",
       "      <td>0.055593</td>\n",
       "      <td>-0.012799</td>\n",
       "      <td>0.188300</td>\n",
       "      <td>...</td>\n",
       "      <td>0.067747</td>\n",
       "      <td>0.143483</td>\n",
       "      <td>0.351450</td>\n",
       "      <td>0.335542</td>\n",
       "      <td>0.061042</td>\n",
       "      <td>-0.047920</td>\n",
       "      <td>0.118769</td>\n",
       "      <td>-0.012566</td>\n",
       "      <td>0.218776</td>\n",
       "      <td>0.087219</td>\n",
       "    </tr>\n",
       "    <tr>\n",
       "      <th>996</th>\n",
       "      <td>-0.129964</td>\n",
       "      <td>-0.060576</td>\n",
       "      <td>0.289461</td>\n",
       "      <td>-0.192462</td>\n",
       "      <td>0.041351</td>\n",
       "      <td>-0.167122</td>\n",
       "      <td>0.073931</td>\n",
       "      <td>-0.057316</td>\n",
       "      <td>0.120499</td>\n",
       "      <td>0.056051</td>\n",
       "      <td>...</td>\n",
       "      <td>0.019326</td>\n",
       "      <td>0.146520</td>\n",
       "      <td>-0.013119</td>\n",
       "      <td>0.151502</td>\n",
       "      <td>-0.007980</td>\n",
       "      <td>-0.054441</td>\n",
       "      <td>-0.035259</td>\n",
       "      <td>-0.050315</td>\n",
       "      <td>0.109793</td>\n",
       "      <td>0.048048</td>\n",
       "    </tr>\n",
       "    <tr>\n",
       "      <th>997</th>\n",
       "      <td>0.063106</td>\n",
       "      <td>0.074149</td>\n",
       "      <td>-0.008419</td>\n",
       "      <td>-0.006145</td>\n",
       "      <td>0.099705</td>\n",
       "      <td>-0.103635</td>\n",
       "      <td>0.135635</td>\n",
       "      <td>-0.040569</td>\n",
       "      <td>0.047257</td>\n",
       "      <td>0.079023</td>\n",
       "      <td>...</td>\n",
       "      <td>-0.183934</td>\n",
       "      <td>-0.158001</td>\n",
       "      <td>-0.208649</td>\n",
       "      <td>0.018592</td>\n",
       "      <td>0.136493</td>\n",
       "      <td>-0.153188</td>\n",
       "      <td>0.031344</td>\n",
       "      <td>-0.090746</td>\n",
       "      <td>0.184516</td>\n",
       "      <td>0.155743</td>\n",
       "    </tr>\n",
       "    <tr>\n",
       "      <th>998</th>\n",
       "      <td>0.209689</td>\n",
       "      <td>0.124338</td>\n",
       "      <td>-0.080780</td>\n",
       "      <td>-0.183504</td>\n",
       "      <td>-0.026510</td>\n",
       "      <td>0.112885</td>\n",
       "      <td>-0.029859</td>\n",
       "      <td>-0.041147</td>\n",
       "      <td>-0.239374</td>\n",
       "      <td>-0.245365</td>\n",
       "      <td>...</td>\n",
       "      <td>0.089347</td>\n",
       "      <td>-0.183906</td>\n",
       "      <td>-0.132240</td>\n",
       "      <td>-0.044856</td>\n",
       "      <td>-0.000080</td>\n",
       "      <td>0.329104</td>\n",
       "      <td>-0.190485</td>\n",
       "      <td>0.277385</td>\n",
       "      <td>-0.312892</td>\n",
       "      <td>0.107411</td>\n",
       "    </tr>\n",
       "    <tr>\n",
       "      <th>999</th>\n",
       "      <td>0.230194</td>\n",
       "      <td>0.314487</td>\n",
       "      <td>0.142224</td>\n",
       "      <td>0.185554</td>\n",
       "      <td>-0.210647</td>\n",
       "      <td>0.068882</td>\n",
       "      <td>0.036594</td>\n",
       "      <td>0.123097</td>\n",
       "      <td>0.009990</td>\n",
       "      <td>-0.003110</td>\n",
       "      <td>...</td>\n",
       "      <td>0.224591</td>\n",
       "      <td>-0.062850</td>\n",
       "      <td>0.193545</td>\n",
       "      <td>-0.268826</td>\n",
       "      <td>-0.276989</td>\n",
       "      <td>0.013100</td>\n",
       "      <td>-0.132477</td>\n",
       "      <td>-0.154477</td>\n",
       "      <td>0.099875</td>\n",
       "      <td>0.358610</td>\n",
       "    </tr>\n",
       "  </tbody>\n",
       "</table>\n",
       "<p>1000 rows × 50 columns</p>\n",
       "</div>"
      ],
      "text/plain": [
       "           0         1         2         3         4         5         6   \\\n",
       "0    0.308528 -0.013217  0.288833 -0.291891 -0.227148 -0.298180  0.308640   \n",
       "1    0.068197 -0.429078 -0.172423  0.281694  0.435428 -0.006195  0.299924   \n",
       "2   -0.273482 -0.359337 -0.286360 -0.002652  0.320630 -0.221947  0.094865   \n",
       "3    0.467282  0.188244  0.120499 -0.235398 -0.297719 -0.289606  0.375755   \n",
       "4    0.246266  0.034584  0.398575 -0.179038  0.181393 -0.029419 -0.372054   \n",
       "..        ...       ...       ...       ...       ...       ...       ...   \n",
       "995 -0.222492 -0.043528  0.045183 -0.059561 -0.010350  0.270981 -0.146375   \n",
       "996 -0.129964 -0.060576  0.289461 -0.192462  0.041351 -0.167122  0.073931   \n",
       "997  0.063106  0.074149 -0.008419 -0.006145  0.099705 -0.103635  0.135635   \n",
       "998  0.209689  0.124338 -0.080780 -0.183504 -0.026510  0.112885 -0.029859   \n",
       "999  0.230194  0.314487  0.142224  0.185554 -0.210647  0.068882  0.036594   \n",
       "\n",
       "           7         8         9   ...        40        41        42  \\\n",
       "0   -0.484184 -0.228409  0.179538  ... -0.240356  0.569082  0.407731   \n",
       "1   -0.417406 -0.258230 -0.045066  ... -0.003249  0.389922 -0.177987   \n",
       "2    0.186873 -0.079958  0.334368  ... -0.109814  0.308935  0.140578   \n",
       "3   -0.376754 -0.337205 -0.092261  ... -0.014364  0.416114  0.287444   \n",
       "4   -0.383708 -0.071520  0.006908  ...  0.199087  0.114092 -0.030003   \n",
       "..        ...       ...       ...  ...       ...       ...       ...   \n",
       "995  0.055593 -0.012799  0.188300  ...  0.067747  0.143483  0.351450   \n",
       "996 -0.057316  0.120499  0.056051  ...  0.019326  0.146520 -0.013119   \n",
       "997 -0.040569  0.047257  0.079023  ... -0.183934 -0.158001 -0.208649   \n",
       "998 -0.041147 -0.239374 -0.245365  ...  0.089347 -0.183906 -0.132240   \n",
       "999  0.123097  0.009990 -0.003110  ...  0.224591 -0.062850  0.193545   \n",
       "\n",
       "           43        44        45        46        47        48        49  \n",
       "0   -0.241692 -0.161494 -0.252329  0.045817  0.350174  0.227110 -0.370955  \n",
       "1   -0.204373  0.447197 -0.326505 -0.022198  0.083480  0.220716 -0.376042  \n",
       "2    0.406091 -0.226519 -0.231256  0.206547 -0.195823  0.205395 -0.173194  \n",
       "3   -0.471970 -0.064032 -0.226923  0.319533  0.501317  0.144242 -0.003146  \n",
       "4    0.162205  0.387994 -0.281378 -0.185605  0.628066  0.245188  0.079691  \n",
       "..        ...       ...       ...       ...       ...       ...       ...  \n",
       "995  0.335542  0.061042 -0.047920  0.118769 -0.012566  0.218776  0.087219  \n",
       "996  0.151502 -0.007980 -0.054441 -0.035259 -0.050315  0.109793  0.048048  \n",
       "997  0.018592  0.136493 -0.153188  0.031344 -0.090746  0.184516  0.155743  \n",
       "998 -0.044856 -0.000080  0.329104 -0.190485  0.277385 -0.312892  0.107411  \n",
       "999 -0.268826 -0.276989  0.013100 -0.132477 -0.154477  0.099875  0.358610  \n",
       "\n",
       "[1000 rows x 50 columns]"
      ]
     },
     "execution_count": 66,
     "metadata": {},
     "output_type": "execute_result"
    }
   ],
   "source": [
    "embedding_df"
   ]
  },
  {
   "cell_type": "code",
   "execution_count": 67,
   "id": "99f5ef0b",
   "metadata": {},
   "outputs": [],
   "source": [
    "#getting a tsv file for the embedding vector to visualize in the embbeding projector\n",
    "embedding_df.to_csv('Embedding_output.tsv', sep='\\t', index=None, header=None)"
   ]
  },
  {
   "cell_type": "code",
   "execution_count": 31,
   "id": "4a2f85cd",
   "metadata": {},
   "outputs": [],
   "source": [
    "#Using pca to reduce dimension from 50 to 3\n",
    "fac0,fac1,fac2 = movie_pca.t()\n",
    "movie_comp = [(f, i) for f,i in zip(fac0, top_movies)]"
   ]
  },
  {
   "cell_type": "code",
   "execution_count": 39,
   "id": "84a9a15f",
   "metadata": {},
   "outputs": [
    {
     "data": {
      "image/png": "[encoded data removed]",
      "text/plain": [
       "<Figure size 1080x1080 with 1 Axes>"
      ]
     },
     "metadata": {
      "needs_background": "light"
     },
     "output_type": "display_data"
    }
   ],
   "source": [
    "#Ploting 2d embbeding\n",
    "idxs = np.random.choice(len(top_movies), 50, replace=False)\n",
    "idxs = list(range(50))\n",
    "X = fac0[idxs]\n",
    "Y = fac2[idxs]\n",
    "plt.figure(figsize=(15,15))\n",
    "plt.scatter(X, Y)\n",
    "for i, x, y in zip(top_movies[idxs], X, Y):\n",
    "    plt.text(x,y,i, color=np.random.rand(3)*0.7, fontsize=11)\n",
    "plt.show()"
   ]
  },
  {
   "cell_type": "code",
   "execution_count": null,
   "id": "afc9428c",
   "metadata": {},
   "outputs": [],
   "source": [
    "\n"
   ]
  },
  {
   "cell_type": "code",
   "execution_count": null,
   "id": "7f4a4e5c",
   "metadata": {},
   "outputs": [],
   "source": []
  }
 ],
 "metadata": {
  "kernelspec": {
   "display_name": "Python 3 (ipykernel)",
   "language": "python",
   "name": "python3"
  },
  "language_info": {
   "codemirror_mode": {
    "name": "ipython",
    "version": 3
   },
   "file_extension": ".py",
   "mimetype": "text/x-python",
   "name": "python",
   "nbconvert_exporter": "python",
   "pygments_lexer": "ipython3",
   "version": "3.9.12"
  }
 },
 "nbformat": 4,
 "nbformat_minor": 5
}
